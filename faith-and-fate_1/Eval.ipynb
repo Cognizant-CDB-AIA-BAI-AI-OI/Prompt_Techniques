{
 "cells": [
  {
   "cell_type": "markdown",
   "id": "62eab9c2-c859-4f9f-bebf-89968fb4067f",
   "metadata": {
    "tags": []
   },
   "source": [
    "# Checking lengths of all datasets"
   ]
  },
  {
   "cell_type": "code",
   "execution_count": 5,
   "id": "37bbc483-bb81-401e-a01a-f1da7a6b2523",
   "metadata": {},
   "outputs": [
    {
     "name": "stdout",
     "output_type": "stream",
     "text": [
      "scratchpad_4_by_1_1000prompts.json 1000\n",
      "scratchpad_3_by_3_1000prompts.json 1000\n",
      "scratchpad_2_by_2_1000prompts.json 1000\n",
      "scratchpad_4_by_2_1000prompts.json 1000\n",
      "scratchpad_5_by_4_1000prompts.json 1000\n",
      "scratchpad_3_by_2_1000prompts.json 1000\n",
      "scratchpad_5_by_1_1000prompts.json 1000\n",
      "scratchpad_5_by_2_1000prompts.json 1000\n",
      "scratchpad_4_by_4_1000prompts.json 1000\n",
      "scratchpad_4_by_3_1000prompts.json 1000\n",
      "scratchpad_1_by_1_prompts.json 81\n",
      "scratchpad_5_by_5_1000prompts.json 1000\n",
      "scratchpad_2_by_1_prompts.json 810\n",
      "scratchpad_3_by_1_1000prompts.json 1000\n",
      "scratchpad_5_by_3_1000prompts.json 1000\n",
      "13891\n"
     ]
    }
   ],
   "source": [
    "import json\n",
    "import os\n",
    "\n",
    "file_names = [i for i in os.listdir(\"data/multiplication/scratchpad/\") if i.endswith('.json')]\n",
    "sum_ = 0\n",
    "for name in file_names:\n",
    "    with open(f\"data/multiplication/scratchpad/{name}\", 'r') as f:\n",
    "        l=json.loads(f.read())\n",
    "    print(name, len(l))\n",
    "    sum_ += len(l)\n",
    "print(sum_)"
   ]
  },
  {
   "cell_type": "code",
   "execution_count": 32,
   "id": "ac96626f-3e3c-4ece-999b-02b6bc8f855f",
   "metadata": {},
   "outputs": [
    {
     "name": "stdout",
     "output_type": "stream",
     "text": [
      "logic_grid_puzzles.test_id_gpt3.json 160\n",
      "logic_grid_puzzles.reasoning.train_5k_gpt3.json 45000\n",
      "logic_grid_puzzles.test_harder_gpt3.json 160\n",
      "logic_grid_puzzles.test_id_xl_gpt3.json 90\n",
      "logic_grid_puzzles.test_hard_gpt3.json 160\n",
      "45570\n"
     ]
    }
   ],
   "source": [
    "file_names = [i for i in os.listdir(\"data/puzzle/scratchpad/\") if i.endswith('.json')]\n",
    "sum_ = 0\n",
    "for name in file_names:\n",
    "    with open(f\"data/puzzle/scratchpad/{name}\", 'r') as f:\n",
    "        l= [json.loads(i) for i in f.read().split(\"\\n\") if i!='']\n",
    "    print(name, len(l))\n",
    "    sum_ += len(l)\n",
    "print(sum_)"
   ]
  },
  {
   "cell_type": "code",
   "execution_count": 37,
   "id": "80b491b4-add4-4e11-b785-c08dd6e40191",
   "metadata": {},
   "outputs": [
    {
     "name": "stdout",
     "output_type": "stream",
     "text": [
      "This is a logic puzzle. There are 2 houses (numbered 1 on the left, 2 on the right), from the perspective of someone standing across the street from them. Each has a different person in them. They have different characteristics:\n",
      " - Each person has a unique name: arnold, eric\n",
      " - Everyone has a favorite smoothie: cherry, desert\n",
      "\n",
      "1. The person who likes Cherry smoothies is directly left of Eric.\n",
      "\n",
      "Let's think step by step. Please first briefly talk about your reasoning and show your final solution by filling the blanks in the below table.\n",
      "\n",
      "$ House: ___ | Name: ___ | Smoothie: ___ |\n",
      "$ House: ___ | Name: ___ | Smoothie: ___ | \n",
      "\n",
      "###\n",
      "\n",
      "\n"
     ]
    }
   ],
   "source": [
    "print(l[9]['prompt'])"
   ]
  },
  {
   "cell_type": "code",
   "execution_count": 45,
   "id": "66a6ccea-919b-46d3-8203-d82c7d2155a5",
   "metadata": {},
   "outputs": [
    {
     "name": "stdout",
     "output_type": "stream",
     "text": [
      "logic_grid_puzzles.train_xxl.table_lite.gpt3.jsonl 12500\n",
      "12500\n"
     ]
    }
   ],
   "source": [
    "file_names = [i for i in os.listdir(\"data/puzzle/no_scratchpad/\") if i.endswith('.jsonl')]\n",
    "sum_ = 0\n",
    "for name in file_names:\n",
    "    with open(f\"data/puzzle/no_scratchpad/{name}\", 'r') as f:\n",
    "        l= [json.loads(i) for i in f.read().split(\"\\n\") if i!='']\n",
    "    print(name, len(l))\n",
    "    sum_ += len(l)\n",
    "print(sum_)"
   ]
  },
  {
   "cell_type": "code",
   "execution_count": 46,
   "id": "87ec434e-dba2-4e13-8aa3-4b7d692749dd",
   "metadata": {},
   "outputs": [
    {
     "name": "stdout",
     "output_type": "stream",
     "text": [
      "data_scratchpad_n_5_minval_-5_maxval_5_sampled_1000.jsonl 1000\n",
      "data_scratchpad_n_2_minval_-5_maxval_5_all.jsonl 121\n",
      "data_scratchpad_n_10_minval_-5_maxval_5_sampled_1000.jsonl 1000\n",
      "data_scratchpad_n_6_minval_-5_maxval_5_sampled_1000.jsonl 1000\n",
      "data_scratchpad_n_7_minval_-5_maxval_5_sampled_1000.jsonl 1000\n",
      "data_scratchpad_n_9_minval_-5_maxval_5_sampled_1000.jsonl 1000\n",
      "data_scratchpad_n_3_minval_-5_maxval_5_sampled_1000.jsonl 1000\n",
      "data_scratchpad_n_8_minval_-5_maxval_5_sampled_1000.jsonl 1000\n",
      "data_scratchpad_n_4_minval_-5_maxval_5_sampled_1000.jsonl 1000\n",
      "8121\n"
     ]
    }
   ],
   "source": [
    "file_names = [i for i in os.listdir(\"data/dp/scratchpad/\") if i.endswith('.jsonl')]\n",
    "sum_ = 0\n",
    "for name in file_names:\n",
    "    with open(f\"data/dp/scratchpad/{name}\", 'r') as f:\n",
    "        l= [json.loads(i) for i in f.read().split(\"\\n\") if i!='']\n",
    "    print(name, len(l))\n",
    "    sum_ += len(l)\n",
    "print(sum_)"
   ]
  },
  {
   "cell_type": "code",
   "execution_count": null,
   "id": "2fa96482-cdb4-4a2e-a1ac-3e6635cffc72",
   "metadata": {},
   "outputs": [],
   "source": []
  },
  {
   "cell_type": "code",
   "execution_count": null,
   "id": "f3488340-4389-4ea2-87b5-3164c01c1584",
   "metadata": {},
   "outputs": [],
   "source": []
  },
  {
   "cell_type": "code",
   "execution_count": null,
   "id": "b9d39794-17e7-464b-99fb-1510bc7680ba",
   "metadata": {},
   "outputs": [],
   "source": []
  },
  {
   "cell_type": "markdown",
   "id": "52e4fa4d-50ec-44c7-8eaf-6e4eb754a181",
   "metadata": {
    "tags": []
   },
   "source": [
    "# Prompts for multiplication"
   ]
  },
  {
   "cell_type": "markdown",
   "id": "effd17e4-4e2b-41f6-9f74-dceec0c3aa6b",
   "metadata": {},
   "source": [
    "## Zero-shot"
   ]
  },
  {
   "cell_type": "code",
   "execution_count": 52,
   "id": "cfbd6cb7-c318-417b-9d0c-661e1fb3750c",
   "metadata": {},
   "outputs": [],
   "source": [
    "prompt = \"\"\"To multiply two numbers, start by multiplying the rightmost digit of the\n",
    "multiplicand by each digit of the multiplier, writing down the products and\n",
    "carrying over any remainders. Repeat this process for each digit of the\n",
    "multiplicand, and then add up all the partial products to obtain the final\n",
    "result.\n",
    "\n",
    "Finally give the final answer in the last line as \"Final_answer\": final answer\n",
    "Do not explain. just give final answer.\n",
    "\n",
    "What is 92337 times 234?\n",
    "\"\"\""
   ]
  },
  {
   "cell_type": "markdown",
   "id": "a5adba45-e162-4ae8-9f57-d7dc28ddfa66",
   "metadata": {},
   "source": [
    "## Zero-shot COT"
   ]
  },
  {
   "cell_type": "code",
   "execution_count": null,
   "id": "cbe7593b-1715-48e1-89fa-5caaf7b25f2c",
   "metadata": {},
   "outputs": [],
   "source": [
    "prompt = \"\"\"To multiply two numbers, start by multiplying the rightmost digit of the\n",
    "multiplicand by each digit of the multiplier, writing down the products and\n",
    "carrying over any remainders. Repeat this process for each digit of the\n",
    "multiplicand, and then add up all the partial products to obtain the final\n",
    "result. \n",
    "\n",
    "Finally give the final answer in the last line as \"Final_answer\": final answer\n",
    "\n",
    "Question: What is 92337 times 234?\n",
    "\n",
    "Let's perform the multiplication step by step:\n",
    "\"\"\""
   ]
  },
  {
   "cell_type": "markdown",
   "id": "3ac22c19-1cf6-422c-9e06-febfa5212237",
   "metadata": {},
   "source": [
    "## Few-shot"
   ]
  },
  {
   "cell_type": "code",
   "execution_count": null,
   "id": "8c6ad68f-b9f8-44a7-8b2b-65543c3a7feb",
   "metadata": {},
   "outputs": [],
   "source": [
    "prompt = \"\"\"To multiply two numbers, start by multiplying the rightmost digit of the\n",
    "multiplicand by each digit of the multiplier, writing down the products and\n",
    "carrying over any remainders. Repeat this process for each digit of the\n",
    "multiplicand, and then add up all the partial products to obtain the final\n",
    "result.\n",
    "\n",
    "Finally give the final answer in the last line as \"Final_answer\": final answer\n",
    "\n",
    "Questions: what's 22 times 2? Answer 44.\n",
    "Questions: what's 78 times 8? Answer 624.\n",
    "\n",
    "Questions: what's 87 times 9?\n",
    "\"\"\""
   ]
  },
  {
   "cell_type": "markdown",
   "id": "3d5b3d01-1ff1-4962-ae7e-e1f5f93752ed",
   "metadata": {},
   "source": [
    "## Few-shot cot"
   ]
  },
  {
   "cell_type": "code",
   "execution_count": 67,
   "id": "a67925e3-abe5-427c-8deb-80226fe678ca",
   "metadata": {},
   "outputs": [],
   "source": [
    "prompt = f\"\"\"To multiply two numbers, start by multiplying the rightmost digit of the\n",
    "multiplicand by each digit of the multiplier, writing down the products and\n",
    "carrying over any remainders. Repeat this process for each digit of the\n",
    "multiplicand, and then add up all the partial products to obtain the final\n",
    "result.\n",
    "\n",
    "Finally give the final answer in the last line as \"Final_answer\": final answer\n",
    "\n",
    "Questions: {l[66]['question']}\n",
    "Answer: {l[66]['prompt']}\n",
    "\n",
    "[Example End]\n",
    "\n",
    "Questions: {l[63]['question']}\n",
    "\"\"\""
   ]
  },
  {
   "cell_type": "code",
   "execution_count": null,
   "id": "04061887-43d5-4674-bf78-443c6d72b4d7",
   "metadata": {},
   "outputs": [],
   "source": []
  },
  {
   "cell_type": "code",
   "execution_count": null,
   "id": "2332b66e-3fe7-4be5-8775-4f8c978dfd4d",
   "metadata": {},
   "outputs": [],
   "source": []
  },
  {
   "cell_type": "markdown",
   "id": "9b8dc986-a2c2-47b3-b3d0-a42e77ab1201",
   "metadata": {
    "tags": []
   },
   "source": [
    "# Multiplication Evaluation"
   ]
  },
  {
   "cell_type": "code",
   "execution_count": null,
   "id": "19d2dca2-e1cd-4f3e-bb22-371bf554d9e2",
   "metadata": {},
   "outputs": [],
   "source": []
  },
  {
   "cell_type": "code",
   "execution_count": 2,
   "id": "fcb472c8-230b-42dc-83bc-b41fc46cb9c7",
   "metadata": {},
   "outputs": [],
   "source": [
    "import re\n",
    "\n",
    "def get_score(item):\n",
    "    \n",
    "    pred = item['pred'].strip(\"\\n\").split(\"\\n\")[-1]\n",
    "    pred = int(pred.split(\":\")[1].strip().replace(\",\", \"\").replace(\".\", \"\"))\n",
    "    \n",
    "    gold = list(map(int, re.findall(r'\\d+', item['question'])))\n",
    "    gold = gold[0] * gold[1]\n",
    "    \n",
    "    if gold == pred:\n",
    "        return gold, pred, 1\n",
    "    \n",
    "    return gold, pred, 0"
   ]
  },
  {
   "cell_type": "markdown",
   "id": "79beba17-d977-442a-9d3e-01cdc9956de6",
   "metadata": {},
   "source": [
    "## Zero-shot"
   ]
  },
  {
   "cell_type": "code",
   "execution_count": 27,
   "id": "2ee988df-d2f8-4aa9-9b0f-ff10886cfe2c",
   "metadata": {},
   "outputs": [
    {
     "name": "stdout",
     "output_type": "stream",
     "text": [
      "Accuracy for scratchpad_1_by_1_prompts_final.json_final.json: 1.0\n",
      "Accuracy for scratchpad_2_by_1_prompts_final.json_final.json: 1.0\n",
      "Accuracy for scratchpad_3_by_1_1000prompts_final.json_final.json: 0.9962917181705809\n",
      "Accuracy for scratchpad_4_by_1_1000prompts_final.json_final.json: 0.9913473423980222\n",
      "Accuracy for scratchpad_5_by_1_1000prompts_final.json_final.json: 0.9678615574783683\n",
      "Accuracy for scratchpad_2_by_2_1000prompts_final.json_final.json: 0.9876390605686032\n",
      "Accuracy for scratchpad_3_by_2_1000prompts_final.json_final.json: 0.9221260815822002\n",
      "Accuracy for scratchpad_4_by_2_1000prompts_final.json_final.json: 0.7861557478368356\n",
      "Accuracy for scratchpad_5_by_2_1000prompts_final.json_final.json: 0.453646477132262\n",
      "Accuracy for scratchpad_3_by_3_1000prompts_final.json_final.json: 0.5945611866501854\n",
      "Accuracy for scratchpad_4_by_3_1000prompts_final.json_final.json: 0.22991347342398022\n",
      "Accuracy for scratchpad_5_by_3_1000prompts_final.json_final.json: 0.08899876390605686\n",
      "Accuracy for scratchpad_4_by_4_1000prompts_final.json_final.json: 0.04697156983930779\n",
      "Accuracy for scratchpad_5_by_4_1000prompts_final.json_final.json: 0.013597033374536464\n",
      "Accuracy for scratchpad_5_by_5_1000prompts_final.json_final.json: 0.0\n"
     ]
    }
   ],
   "source": [
    "import json\n",
    "import os\n",
    "\n",
    "file_names = [i for i in os.listdir(\"outputs_Zero-shot/multiplication/scratchpad/\") if i.endswith('.json')]\n",
    "sum_ = 0\n",
    "for name in sorted(file_names, key = lambda x: (int(x[16]), int(x[11]))):\n",
    "    with open(f\"outputs_Zero-shot/multiplication/scratchpad/{name}\", 'r') as f:\n",
    "        l=json.loads(f.read())\n",
    "    \n",
    "    Score = []\n",
    "    for i in l:\n",
    "        gold, pred, score = get_score(i)\n",
    "        Score.append(score)\n",
    "        \n",
    "    print(f\"Accuracy for {name}: {sum(Score)/len(Score)}\")\n",
    "    "
   ]
  },
  {
   "cell_type": "code",
   "execution_count": null,
   "id": "58c114a6-6d88-4e63-8981-4a745bd9ccf6",
   "metadata": {},
   "outputs": [],
   "source": []
  },
  {
   "cell_type": "markdown",
   "id": "17c4186d-6cb6-4b18-8415-2d7b83a6138e",
   "metadata": {},
   "source": [
    "## Zero-shot-CoT"
   ]
  },
  {
   "cell_type": "code",
   "execution_count": 166,
   "id": "9e97c1e6-5e72-4fe3-bcd1-0bd16556290d",
   "metadata": {},
   "outputs": [
    {
     "name": "stdout",
     "output_type": "stream",
     "text": [
      "Accuracy for scratchpad_1_by_1_prompts_final.json: 1.0\n",
      "Accuracy for scratchpad_2_by_1_prompts_final.json: 0.9358024691358025\n",
      "Accuracy for scratchpad_3_by_1_1000prompts_final.json: 0.935\n",
      "Accuracy for scratchpad_4_by_1_1000prompts_final.json: 0.912\n",
      "Accuracy for scratchpad_5_by_1_1000prompts_final.json: 0.789\n",
      "Accuracy for scratchpad_2_by_2_1000prompts_final.json: 0.918\n",
      "Accuracy for scratchpad_3_by_2_1000prompts_final.json: 0.674\n",
      "Accuracy for scratchpad_4_by_2_1000prompts_final.json: 0.44\n",
      "Accuracy for scratchpad_5_by_2_1000prompts_final.json: 0.233\n",
      "Accuracy for scratchpad_3_by_3_1000prompts_final.json: 0.323\n",
      "Accuracy for scratchpad_4_by_3_1000prompts_final.json: 0.084\n",
      "Accuracy for scratchpad_5_by_3_1000prompts_final.json: 0.021\n",
      "Accuracy for scratchpad_4_by_4_1000prompts_final.json: 0.011\n",
      "Accuracy for scratchpad_5_by_4_1000prompts_final.json: 0.001\n",
      "Accuracy for scratchpad_5_by_5_1000prompts_final.json: 0.0\n"
     ]
    }
   ],
   "source": [
    "import json\n",
    "import os\n",
    "\n",
    "file_names = [i for i in os.listdir(\"outputs_Zero-shot-CoT/multiplication/scratchpad/\") if i.endswith('.json')]\n",
    "sum_ = 0\n",
    "for name in sorted(file_names, key = lambda x: (int(x[16]), int(x[11]))):\n",
    "    #try:\n",
    "        with open(f\"outputs_Zero-shot-CoT/multiplication/scratchpad/{name}\", 'r') as f:\n",
    "            l=json.loads(f.read())\n",
    "\n",
    "        Score = []\n",
    "        for i in l:\n",
    "            try:\n",
    "                gold, pred, score = get_score(i)\n",
    "                Score.append(score)\n",
    "            except:\n",
    "                Score.append(0)\n",
    "\n",
    "        print(f\"Accuracy for {name}: {sum(Score)/len(Score)}\")\n",
    "    #except:\n",
    "    #    print(f'Error in {name}')\n",
    "    "
   ]
  },
  {
   "cell_type": "code",
   "execution_count": null,
   "id": "0f1523af-f4eb-4bd8-a9a0-e0d86314a6c7",
   "metadata": {},
   "outputs": [],
   "source": []
  },
  {
   "cell_type": "code",
   "execution_count": null,
   "id": "1d1acff4-fa37-427b-8b5c-be4d24d286e2",
   "metadata": {},
   "outputs": [],
   "source": []
  },
  {
   "cell_type": "markdown",
   "id": "2c6a0850-2868-4f55-9bc1-3901be0c0773",
   "metadata": {},
   "source": [
    "## Few-shot"
   ]
  },
  {
   "cell_type": "code",
   "execution_count": 29,
   "id": "49526d09-cecd-4de4-a606-66d4d659f844",
   "metadata": {},
   "outputs": [
    {
     "name": "stdout",
     "output_type": "stream",
     "text": [
      "Accuracy for scratchpad_1_by_1_prompts_final.json: 1.0\n",
      "Accuracy for scratchpad_2_by_1_prompts_final.json: 1.0\n",
      "Accuracy for scratchpad_3_by_1_1000prompts_final.json: 0.998\n",
      "Accuracy for scratchpad_4_by_1_1000prompts_final.json: 0.99\n",
      "Accuracy for scratchpad_5_by_1_1000prompts_final.json: 0.968\n",
      "Accuracy for scratchpad_2_by_2_1000prompts_final.json: 0.991\n",
      "Accuracy for scratchpad_3_by_2_1000prompts_final.json: 0.926\n",
      "Accuracy for scratchpad_4_by_2_1000prompts_final.json: 0.797\n",
      "Accuracy for scratchpad_5_by_2_1000prompts_final.json: 0.487\n",
      "Accuracy for scratchpad_3_by_3_1000prompts_final.json: 0.598\n",
      "Accuracy for scratchpad_4_by_3_1000prompts_final.json: 0.252\n",
      "Accuracy for scratchpad_5_by_3_1000prompts_final.json: 0.086\n",
      "Accuracy for scratchpad_4_by_4_1000prompts_final.json: 0.047\n",
      "Accuracy for scratchpad_5_by_4_1000prompts_final.json: 0.013\n",
      "Accuracy for scratchpad_5_by_5_1000prompts_final.json: 0.002\n"
     ]
    }
   ],
   "source": [
    "import json\n",
    "import os\n",
    "\n",
    "file_names = [i for i in os.listdir(\"outputs_Few-shot/multiplication/scratchpad/\") if i.endswith('.json')]\n",
    "sum_ = 0\n",
    "for name in sorted(file_names, key = lambda x: (int(x[16]), int(x[11]))):\n",
    "    with open(f\"outputs_Few-shot/multiplication/scratchpad/{name}\", 'r') as f:\n",
    "        l=json.loads(f.read())\n",
    "    \n",
    "    Score = []\n",
    "    for i in l:\n",
    "        gold, pred, score = get_score(i)\n",
    "        Score.append(score)\n",
    "        \n",
    "    print(f\"Accuracy for {name}: {sum(Score)/len(Score)}\")\n",
    "    "
   ]
  },
  {
   "cell_type": "code",
   "execution_count": null,
   "id": "27ab9d11-3567-4ecf-a676-1fbb8b8f5a50",
   "metadata": {},
   "outputs": [],
   "source": []
  },
  {
   "cell_type": "markdown",
   "id": "ec2b738d-7bac-433e-9023-b195ce081435",
   "metadata": {},
   "source": [
    "## Few-shot-CoT"
   ]
  },
  {
   "cell_type": "code",
   "execution_count": 3,
   "id": "05a1bc6a-472f-479f-b756-0fa6ceed8302",
   "metadata": {},
   "outputs": [
    {
     "name": "stdout",
     "output_type": "stream",
     "text": [
      "Accuracy for scratchpad_1_by_1_prompts_final.json: 1.0\n",
      "Accuracy for scratchpad_2_by_1_prompts_final.json: 1.0\n",
      "Accuracy for scratchpad_3_by_1_1000prompts_final.json: 0.969\n",
      "Accuracy for scratchpad_4_by_1_1000prompts_final.json: 0.966\n",
      "Accuracy for scratchpad_5_by_1_1000prompts_final.json: 0.783\n",
      "Accuracy for scratchpad_2_by_2_1000prompts_final.json: 0.997\n",
      "Accuracy for scratchpad_3_by_2_1000prompts_final.json: 0.952\n",
      "Accuracy for scratchpad_4_by_2_1000prompts_final.json: 0.81\n",
      "Accuracy for scratchpad_5_by_2_1000prompts_final.json: 0.455\n",
      "Accuracy for scratchpad_3_by_3_1000prompts_final.json: 0.892\n",
      "Accuracy for scratchpad_4_by_3_1000prompts_final.json: 0.37\n",
      "Accuracy for scratchpad_5_by_3_1000prompts_final.json: 0.078\n",
      "Accuracy for scratchpad_4_by_4_1000prompts_final.json: 0.04228855721393035\n",
      "Accuracy for scratchpad_5_by_4_1000prompts_final.json: 0.013\n",
      "Accuracy for scratchpad_5_by_5_1000prompts_final.json: 0.0\n"
     ]
    }
   ],
   "source": [
    "import json\n",
    "import os\n",
    "\n",
    "file_names = [i for i in os.listdir(\"outputs_Few-shot-CoT/multiplication/scratchpad/\") if i.endswith('.json')]\n",
    "sum_ = 0\n",
    "for name in sorted(file_names, key = lambda x: (int(x[16]), int(x[11]))):\n",
    "    try:\n",
    "        with open(f\"outputs_Few-shot-CoT/multiplication/scratchpad/{name}\", 'r') as f:\n",
    "            l=json.loads(f.read())\n",
    "\n",
    "        Score = []\n",
    "        for i in l:\n",
    "            gold, pred, score = get_score(i)\n",
    "            Score.append(score)\n",
    "\n",
    "        print(f\"Accuracy for {name}: {sum(Score)/len(Score)}\")\n",
    "    except Exception as e:\n",
    "        print(f'Error in {name} {e}')\n",
    "    "
   ]
  },
  {
   "cell_type": "code",
   "execution_count": 164,
   "id": "87a440e3-b29b-49e4-8aed-0c0cb652a239",
   "metadata": {},
   "outputs": [
    {
     "name": "stdout",
     "output_type": "stream",
     "text": [
      "Accuracy for scratchpad_1_by_1_prompts_final.json_final.json: 1.0\n"
     ]
    },
    {
     "ename": "FileNotFoundError",
     "evalue": "[Errno 2] No such file or directory: 'outputs_Zero-shot-CoT/multiplication/scratchpad/scratchpad_1_by_1_prompts_final.json_final.json'",
     "output_type": "error",
     "traceback": [
      "\u001b[0;31m---------------------------------------------------------------------------\u001b[0m",
      "\u001b[0;31mFileNotFoundError\u001b[0m                         Traceback (most recent call last)",
      "Cell \u001b[0;32mIn[164], line 26\u001b[0m\n\u001b[1;32m     23\u001b[0m \u001b[38;5;28;01mfor\u001b[39;00m name \u001b[38;5;129;01min\u001b[39;00m \u001b[38;5;28msorted\u001b[39m(file_names, key \u001b[38;5;241m=\u001b[39m \u001b[38;5;28;01mlambda\u001b[39;00m x: (\u001b[38;5;28mint\u001b[39m(x[\u001b[38;5;241m16\u001b[39m]), \u001b[38;5;28mint\u001b[39m(x[\u001b[38;5;241m11\u001b[39m]))):\n\u001b[1;32m     25\u001b[0m     \u001b[38;5;28;01mfor\u001b[39;00m setting \u001b[38;5;129;01min\u001b[39;00m [\u001b[38;5;124m'\u001b[39m\u001b[38;5;124mZero-shot\u001b[39m\u001b[38;5;124m'\u001b[39m, \u001b[38;5;124m'\u001b[39m\u001b[38;5;124mZero-shot-CoT\u001b[39m\u001b[38;5;124m'\u001b[39m, \u001b[38;5;124m'\u001b[39m\u001b[38;5;124mFew-shot\u001b[39m\u001b[38;5;124m'\u001b[39m, \u001b[38;5;124m'\u001b[39m\u001b[38;5;124mFew-shot-CoT\u001b[39m\u001b[38;5;124m'\u001b[39m]:\n\u001b[0;32m---> 26\u001b[0m         \u001b[38;5;28;01mwith\u001b[39;00m \u001b[38;5;28;43mopen\u001b[39;49m\u001b[43m(\u001b[49m\u001b[38;5;124;43mf\u001b[39;49m\u001b[38;5;124;43m\"\u001b[39;49m\u001b[38;5;124;43moutputs_\u001b[39;49m\u001b[38;5;132;43;01m{\u001b[39;49;00m\u001b[43msetting\u001b[49m\u001b[38;5;132;43;01m}\u001b[39;49;00m\u001b[38;5;124;43m/multiplication/scratchpad/\u001b[39;49m\u001b[38;5;132;43;01m{\u001b[39;49;00m\u001b[43mname\u001b[49m\u001b[38;5;132;43;01m}\u001b[39;49;00m\u001b[38;5;124;43m\"\u001b[39;49m\u001b[43m,\u001b[49m\u001b[43m \u001b[49m\u001b[38;5;124;43m'\u001b[39;49m\u001b[38;5;124;43mr\u001b[39;49m\u001b[38;5;124;43m'\u001b[39;49m\u001b[43m)\u001b[49m \u001b[38;5;28;01mas\u001b[39;00m f:\n\u001b[1;32m     27\u001b[0m             l\u001b[38;5;241m=\u001b[39mjson\u001b[38;5;241m.\u001b[39mloads(f\u001b[38;5;241m.\u001b[39mread())\n\u001b[1;32m     29\u001b[0m         Score \u001b[38;5;241m=\u001b[39m []\n",
      "File \u001b[0;32m/opt/conda/envs/pynew/lib/python3.9/site-packages/IPython/core/interactiveshell.py:286\u001b[0m, in \u001b[0;36m_modified_open\u001b[0;34m(file, *args, **kwargs)\u001b[0m\n\u001b[1;32m    279\u001b[0m \u001b[38;5;28;01mif\u001b[39;00m file \u001b[38;5;129;01min\u001b[39;00m {\u001b[38;5;241m0\u001b[39m, \u001b[38;5;241m1\u001b[39m, \u001b[38;5;241m2\u001b[39m}:\n\u001b[1;32m    280\u001b[0m     \u001b[38;5;28;01mraise\u001b[39;00m \u001b[38;5;167;01mValueError\u001b[39;00m(\n\u001b[1;32m    281\u001b[0m         \u001b[38;5;124mf\u001b[39m\u001b[38;5;124m\"\u001b[39m\u001b[38;5;124mIPython won\u001b[39m\u001b[38;5;124m'\u001b[39m\u001b[38;5;124mt let you open fd=\u001b[39m\u001b[38;5;132;01m{\u001b[39;00mfile\u001b[38;5;132;01m}\u001b[39;00m\u001b[38;5;124m by default \u001b[39m\u001b[38;5;124m\"\u001b[39m\n\u001b[1;32m    282\u001b[0m         \u001b[38;5;124m\"\u001b[39m\u001b[38;5;124mas it is likely to crash IPython. If you know what you are doing, \u001b[39m\u001b[38;5;124m\"\u001b[39m\n\u001b[1;32m    283\u001b[0m         \u001b[38;5;124m\"\u001b[39m\u001b[38;5;124myou can use builtins\u001b[39m\u001b[38;5;124m'\u001b[39m\u001b[38;5;124m open.\u001b[39m\u001b[38;5;124m\"\u001b[39m\n\u001b[1;32m    284\u001b[0m     )\n\u001b[0;32m--> 286\u001b[0m \u001b[38;5;28;01mreturn\u001b[39;00m \u001b[43mio_open\u001b[49m\u001b[43m(\u001b[49m\u001b[43mfile\u001b[49m\u001b[43m,\u001b[49m\u001b[43m \u001b[49m\u001b[38;5;241;43m*\u001b[39;49m\u001b[43margs\u001b[49m\u001b[43m,\u001b[49m\u001b[43m \u001b[49m\u001b[38;5;241;43m*\u001b[39;49m\u001b[38;5;241;43m*\u001b[39;49m\u001b[43mkwargs\u001b[49m\u001b[43m)\u001b[49m\n",
      "\u001b[0;31mFileNotFoundError\u001b[0m: [Errno 2] No such file or directory: 'outputs_Zero-shot-CoT/multiplication/scratchpad/scratchpad_1_by_1_prompts_final.json_final.json'"
     ]
    }
   ],
   "source": [
    "import re\n",
    "import json\n",
    "import os\n",
    "\n",
    "def get_score(item):\n",
    "    \n",
    "    pred = item['pred'].strip(\"\\n\").split(\"\\n\")[-1]\n",
    "    pred = int(pred.split(\":\")[1].strip().replace(\",\", \"\").replace(\".\", \"\"))\n",
    "    \n",
    "    gold = list(map(int, re.findall(r'\\d+', item['question'])))\n",
    "    gold = gold[0] * gold[1]\n",
    "    \n",
    "    if gold == pred:\n",
    "        return gold, pred, 1\n",
    "    \n",
    "    return gold, pred, 0\n",
    "\n",
    "\n",
    "\n",
    "\n",
    "file_names = [i for i in os.listdir(\"outputs_Zero-shot/multiplication/scratchpad/\") if i.endswith('.json')]\n",
    "sum_ = 0\n",
    "for name in sorted(file_names, key = lambda x: (int(x[16]), int(x[11]))):\n",
    "\n",
    "    for setting in ['Zero-shot', 'Zero-shot-CoT', 'Few-shot', 'Few-shot-CoT']:\n",
    "        with open(f\"outputs_{setting}/multiplication/scratchpad/{name}\", 'r') as f:\n",
    "            l=json.loads(f.read())\n",
    "\n",
    "        Score = []\n",
    "        for i in l:\n",
    "            gold, pred, score = get_score(i)\n",
    "            Score.append(score)\n",
    "\n",
    "        print(f\"Accuracy for {name}: {sum(Score)/len(Score)}\")\n",
    "    "
   ]
  },
  {
   "cell_type": "code",
   "execution_count": null,
   "id": "96927948-8276-42a0-a6e9-5c85af8032e7",
   "metadata": {},
   "outputs": [],
   "source": []
  },
  {
   "cell_type": "code",
   "execution_count": null,
   "id": "19824ac4-abda-4913-a9b6-7c2ab3c005d3",
   "metadata": {},
   "outputs": [],
   "source": []
  },
  {
   "cell_type": "code",
   "execution_count": null,
   "id": "f14bef2f-37b7-4b4d-8cf5-ae15ac4640a4",
   "metadata": {},
   "outputs": [],
   "source": []
  },
  {
   "cell_type": "markdown",
   "id": "ad0b3c85-4b90-4a9d-ad41-61ab255ddace",
   "metadata": {},
   "source": [
    "# DP Evaluation"
   ]
  },
  {
   "cell_type": "code",
   "execution_count": null,
   "id": "c21cddee-036a-4093-b67b-60cb28d5e3fa",
   "metadata": {},
   "outputs": [],
   "source": []
  },
  {
   "cell_type": "code",
   "execution_count": 27,
   "id": "c38c285e-4d18-4a37-8c66-4eed1b7cc46b",
   "metadata": {},
   "outputs": [],
   "source": [
    "def get_score(item):\n",
    "    \n",
    "    pred = [i for i in item['pred'].split(\"\\n\")][-1].lower().split(\":\")[1].strip()\n",
    "    out = str(item['raw_output'])\n",
    "    \n",
    "    return 1 if pred==out else 0\n",
    "    return pred, out"
   ]
  },
  {
   "cell_type": "code",
   "execution_count": 30,
   "id": "34e50734-6f7d-4c6b-98f5-0025f433b879",
   "metadata": {},
   "outputs": [
    {
     "name": "stdout",
     "output_type": "stream",
     "text": [
      "Accuracy for data_scratchpad_n_10_minval_-5_maxval_5_sampled_1000_final.json: 0.1\n",
      "Accuracy for data_scratchpad_n_2_minval_-5_maxval_5_all_final.json: 0.4297520661157025\n",
      "Accuracy for data_scratchpad_n_3_minval_-5_maxval_5_sampled_1000_final.json: 0.285\n",
      "Accuracy for data_scratchpad_n_4_minval_-5_maxval_5_sampled_1000_final.json: 0.247\n",
      "Accuracy for data_scratchpad_n_5_minval_-5_maxval_5_sampled_1000_final.json: 0.226\n",
      "Accuracy for data_scratchpad_n_6_minval_-5_maxval_5_sampled_1000_final.json: 0.194\n",
      "Accuracy for data_scratchpad_n_7_minval_-5_maxval_5_sampled_1000_final.json: 0.161\n",
      "Accuracy for data_scratchpad_n_8_minval_-5_maxval_5_sampled_1000_final.json: 0.143\n",
      "Accuracy for data_scratchpad_n_9_minval_-5_maxval_5_sampled_1000_final.json: 0.119\n"
     ]
    }
   ],
   "source": [
    "import json\n",
    "import os\n",
    "\n",
    "file_names = [i for i in os.listdir(\"outputs_Zero-shot/dp/scratchpad/\") if i.endswith('.json')]\n",
    "sum_ = 0\n",
    "for name in sorted(file_names):\n",
    "    try:\n",
    "        with open(f\"outputs_Zero-shot/dp/scratchpad/{name}\", 'r') as f:\n",
    "            l=json.loads(f.read())\n",
    "\n",
    "        Score = []\n",
    "        for i in l:\n",
    "            score = get_score(i)\n",
    "            Score.append(score)\n",
    "\n",
    "        print(f\"Accuracy for {name}: {sum(Score)/len(Score)}\")\n",
    "    except Exception as e:\n",
    "        print(f'Error in {name} {e}')\n",
    "    "
   ]
  },
  {
   "cell_type": "code",
   "execution_count": 58,
   "id": "f3bfd197-172a-4b4c-b2bb-4e007b43ac50",
   "metadata": {},
   "outputs": [
    {
     "name": "stdout",
     "output_type": "stream",
     "text": [
      "Accuracy for data_scratchpad_n_10_minval_-5_maxval_5_sampled_1000_final.json: 0.272\n",
      "Accuracy for data_scratchpad_n_2_minval_-5_maxval_5_all_final.json: 0.7768595041322314\n",
      "Accuracy for data_scratchpad_n_3_minval_-5_maxval_5_sampled_1000_final.json: 0.718\n",
      "Accuracy for data_scratchpad_n_4_minval_-5_maxval_5_sampled_1000_final.json: 0.574\n",
      "Accuracy for data_scratchpad_n_5_minval_-5_maxval_5_sampled_1000_final.json: 0.494\n",
      "Accuracy for data_scratchpad_n_6_minval_-5_maxval_5_sampled_1000_final.json: 0.483\n",
      "Accuracy for data_scratchpad_n_7_minval_-5_maxval_5_sampled_1000_final.json: 0.414\n",
      "Accuracy for data_scratchpad_n_8_minval_-5_maxval_5_sampled_1000_final.json: 0.356\n",
      "Accuracy for data_scratchpad_n_9_minval_-5_maxval_5_sampled_1000_final.json: 0.332\n"
     ]
    }
   ],
   "source": [
    "from tqdm import tqdm\n",
    "import json\n",
    "import os\n",
    "\n",
    "def get_score(item):\n",
    "    \n",
    "    try:\n",
    "        text = [i for i in item['pred'].split(\"\\n\") if i !=\"\"][-1].lower()\n",
    "        pred = re.search(\"\\[(.*?)\\]\", text).group()\n",
    "        out = str(item['raw_output'])\n",
    "\n",
    "        return 1 if pred==out else 0\n",
    "    except:\n",
    "        return 0\n",
    "    #return pred, out\n",
    "\n",
    "\n",
    "\n",
    "\n",
    "\n",
    "file_names = [i for i in os.listdir(\"outputs_Zero-shot-CoT/dp/scratchpad/\") if i.endswith('.json')]\n",
    "sum_ = 0\n",
    "for name in sorted(file_names):\n",
    "    #try:\n",
    "        with open(f\"outputs_Zero-shot-CoT/dp/scratchpad/{name}\", 'r') as f:\n",
    "            l=json.loads(f.read())\n",
    "\n",
    "        Score = []\n",
    "        for i in l:\n",
    "            score = get_score(i)\n",
    "            Score.append(score)\n",
    "\n",
    "        print(f\"Accuracy for {name}: {sum(Score)/len(Score)}\")\n",
    "    #except Exception as e:\n",
    "    #    print(f'Error in {name} {e}')\n",
    "    "
   ]
  },
  {
   "cell_type": "code",
   "execution_count": 168,
   "id": "61b70d76-9fe5-47d9-9eb2-2c50e0029dd1",
   "metadata": {},
   "outputs": [],
   "source": [
    "def get_score(item):\n",
    "    \n",
    "    pred = [i for i in item['pred'].split(\"\\n\")][-1].lower().split(\":\")[1].strip()\n",
    "    out = str(item['raw_output'])\n",
    "    \n",
    "    return 1 if pred==out else 0\n",
    "    return pred, out"
   ]
  },
  {
   "cell_type": "code",
   "execution_count": 169,
   "id": "9aec614c-91de-4f3b-a108-2a1f41ed3420",
   "metadata": {},
   "outputs": [
    {
     "name": "stdout",
     "output_type": "stream",
     "text": [
      "Accuracy for data_scratchpad_n_10_minval_-5_maxval_5_sampled_1000_final.json: 0.273\n",
      "Accuracy for data_scratchpad_n_2_minval_-5_maxval_5_all_final.json: 0.7272727272727273\n",
      "Accuracy for data_scratchpad_n_3_minval_-5_maxval_5_sampled_1000_final.json: 0.741\n",
      "Accuracy for data_scratchpad_n_4_minval_-5_maxval_5_sampled_1000_final.json: 0.619\n",
      "Accuracy for data_scratchpad_n_5_minval_-5_maxval_5_sampled_1000_final.json: 0.517\n",
      "Accuracy for data_scratchpad_n_6_minval_-5_maxval_5_sampled_1000_final.json: 0.479\n",
      "Accuracy for data_scratchpad_n_7_minval_-5_maxval_5_sampled_1000_final.json: 0.422\n",
      "Accuracy for data_scratchpad_n_8_minval_-5_maxval_5_sampled_1000_final.json: 0.385\n",
      "Accuracy for data_scratchpad_n_9_minval_-5_maxval_5_sampled_1000_final.json: 0.322\n"
     ]
    }
   ],
   "source": [
    "import json\n",
    "import os\n",
    "\n",
    "file_names = [i for i in os.listdir(\"outputs_Few-shot/dp/scratchpad/\") if i.endswith('.json')]\n",
    "sum_ = 0\n",
    "for name in sorted(file_names):\n",
    "    try:\n",
    "        with open(f\"outputs_Few-shot/dp/scratchpad/{name}\", 'r') as f:\n",
    "            l=json.loads(f.read())\n",
    "\n",
    "        Score = []\n",
    "        for i in l:\n",
    "            try:\n",
    "                score = get_score(i)\n",
    "                Score.append(score)\n",
    "            except:\n",
    "                Score.append(0)\n",
    "\n",
    "        print(f\"Accuracy for {name}: {sum(Score)/len(Score)}\")\n",
    "    except Exception as e:\n",
    "        print(f'Error in {name} {e}')\n",
    "    "
   ]
  },
  {
   "cell_type": "code",
   "execution_count": 28,
   "id": "70e26eae-fb22-404a-a797-d9e6ca02d559",
   "metadata": {
    "tags": []
   },
   "outputs": [
    {
     "name": "stdout",
     "output_type": "stream",
     "text": [
      "Accuracy for data_scratchpad_n_10_minval_-5_maxval_5_sampled_1000_final.json: 0.403\n",
      "Accuracy for data_scratchpad_n_2_minval_-5_maxval_5_all_final.json: 0.9834710743801653\n",
      "Accuracy for data_scratchpad_n_3_minval_-5_maxval_5_sampled_1000_final.json: 0.774\n",
      "Accuracy for data_scratchpad_n_4_minval_-5_maxval_5_sampled_1000_final.json: 0.692\n",
      "Accuracy for data_scratchpad_n_5_minval_-5_maxval_5_sampled_1000_final.json: 0.643\n",
      "Accuracy for data_scratchpad_n_6_minval_-5_maxval_5_sampled_1000_final.json: 0.59\n",
      "Accuracy for data_scratchpad_n_7_minval_-5_maxval_5_sampled_1000_final.json: 0.57\n",
      "Accuracy for data_scratchpad_n_8_minval_-5_maxval_5_sampled_1000_final.json: 0.514\n",
      "Accuracy for data_scratchpad_n_9_minval_-5_maxval_5_sampled_1000_final.json: 0.454\n"
     ]
    }
   ],
   "source": [
    "import json\n",
    "import os\n",
    "\n",
    "file_names = [i for i in os.listdir(\"outputs_Few-shot-CoT/dp/scratchpad/\") if i.endswith('.json')]\n",
    "sum_ = 0\n",
    "for name in sorted(file_names):\n",
    "    try:\n",
    "        with open(f\"outputs_Few-shot-CoT/dp/scratchpad/{name}\", 'r') as f:\n",
    "            l=json.loads(f.read())\n",
    "\n",
    "        Score = []\n",
    "        for i in l:\n",
    "            score = get_score(i)\n",
    "            Score.append(score)\n",
    "\n",
    "        print(f\"Accuracy for {name}: {sum(Score)/len(Score)}\")\n",
    "    except Exception as e:\n",
    "        print(f'Error in {name} {e}')\n",
    "    "
   ]
  },
  {
   "cell_type": "code",
   "execution_count": null,
   "id": "8ff40921-aa51-48e5-88e4-8135edc5e663",
   "metadata": {},
   "outputs": [],
   "source": []
  },
  {
   "cell_type": "code",
   "execution_count": null,
   "id": "79af2222-a7f5-4dbd-9bf6-68c92b97d0e0",
   "metadata": {},
   "outputs": [],
   "source": []
  },
  {
   "cell_type": "code",
   "execution_count": null,
   "id": "c8305652-accf-4ac0-8d8e-dcd00f128e5e",
   "metadata": {},
   "outputs": [],
   "source": []
  },
  {
   "cell_type": "code",
   "execution_count": null,
   "id": "95d32604-5e9c-4a3b-b6a4-62237e251fc4",
   "metadata": {},
   "outputs": [],
   "source": []
  },
  {
   "cell_type": "code",
   "execution_count": null,
   "id": "daaf8f1f-aae8-4cc7-af03-29c0bb0827b9",
   "metadata": {},
   "outputs": [],
   "source": []
  },
  {
   "cell_type": "markdown",
   "id": "679058db-8ed5-4eab-b608-6be29a293fb3",
   "metadata": {},
   "source": [
    "# Einstein puzzle"
   ]
  },
  {
   "cell_type": "code",
   "execution_count": 152,
   "id": "5d303630-0246-440f-9879-597e622406f1",
   "metadata": {},
   "outputs": [],
   "source": [
    "def extract(s):\n",
    "    s = [i.split(\":\")[1].strip().lower() for i in s.split(\"|\") if i.strip()!=\"\"]\n",
    "    return s\n",
    "\n",
    "\n",
    "def get_score(item):\n",
    "    \n",
    "    pred = item['pred'].split(\"\\n\")\n",
    "    comp = item['completion'].split(\"\\n\")\n",
    "    \n",
    "    predictions = []\n",
    "    for i in range(len(pred)):\n",
    "        if \"$ House:\" in pred[i]:\n",
    "            predictions.append(pred[i])\n",
    "    #predictions = predictions[::-1]\n",
    "    #print(predictions)\n",
    "    gold = []\n",
    "    for i in range(len(comp)):\n",
    "        if \"$ House:\" in comp[i]:\n",
    "            gold.append(comp[i])\n",
    "    #print(len(predictions), len(gold))\n",
    "    for i, j in zip(predictions, gold):\n",
    "        if extract(i) != extract(j):\n",
    "            return False\n",
    "    return True\n",
    "        \n",
    "    "
   ]
  },
  {
   "cell_type": "markdown",
   "id": "c7657ad1-7cc2-4461-ae65-dfa8bdab16e9",
   "metadata": {},
   "source": [
    "## Zero-shot"
   ]
  },
  {
   "cell_type": "code",
   "execution_count": 161,
   "id": "2c698540-2de9-4d2f-89ac-fa574f630efb",
   "metadata": {
    "tags": []
   },
   "outputs": [
    {
     "name": "stdout",
     "output_type": "stream",
     "text": [
      "Accuracy for logic_grid_puzzles.test_hard_gpt3.json_final.json: 0.3625\n",
      "Accuracy for logic_grid_puzzles.test_harder_gpt3.json_final.json: 0.275\n",
      "Accuracy for logic_grid_puzzles.test_id_gpt3.json_final.json: 0.3125\n",
      "Accuracy for logic_grid_puzzles.test_id_xl_gpt3.json_final.json: 0.1\n",
      "Overall Score: 0.2625\n"
     ]
    }
   ],
   "source": [
    "import json\n",
    "import os\n",
    "from tqdm import tqdm\n",
    "\n",
    "file_names = [i for i in os.listdir(\"outputs_Zero-shot/puzzle/scratchpad/\") if i.endswith('.json')]\n",
    "sum_ = 0\n",
    "Scores = []\n",
    "for name in sorted(file_names):\n",
    "    \n",
    "    if 'train' not in name:\n",
    "        with open(f\"outputs_Zero-shot/puzzle/scratchpad/{name}\", 'r') as f:\n",
    "            l=json.loads(f.read())\n",
    "\n",
    "        Score = []\n",
    "        for i in l:\n",
    "            score = get_score(i)\n",
    "            Score.append(score)\n",
    "\n",
    "        Scores.append(sum(Score)/len(Score))\n",
    "        print(f\"Accuracy for {name}: {sum(Score)/len(Score)}\")\n",
    "\n",
    "print(f\"Overall Score: {sum(Scores)/len(Scores)}\")\n",
    "    "
   ]
  },
  {
   "cell_type": "code",
   "execution_count": null,
   "id": "18394531-4428-4ebd-93bf-c42e3b2effbd",
   "metadata": {},
   "outputs": [],
   "source": []
  },
  {
   "cell_type": "markdown",
   "id": "fadb43bf-bac9-4c53-af13-465396e526d1",
   "metadata": {},
   "source": [
    "## Zero-shot-CoT"
   ]
  },
  {
   "cell_type": "code",
   "execution_count": 160,
   "id": "8d612a1c-397e-4666-9245-07b67fd6b2d8",
   "metadata": {},
   "outputs": [
    {
     "name": "stdout",
     "output_type": "stream",
     "text": [
      "Accuracy for logic_grid_puzzles.test_hard_gpt3.json_final.json: 0.24375\n",
      "Accuracy for logic_grid_puzzles.test_harder_gpt3.json_final.json: 0.2375\n",
      "Accuracy for logic_grid_puzzles.test_id_gpt3.json_final.json: 0.275\n",
      "Accuracy for logic_grid_puzzles.test_id_xl_gpt3.json_final.json: 0.1111111111111111\n",
      "Overall Score: 0.21684027777777776\n"
     ]
    }
   ],
   "source": [
    "import json\n",
    "import os\n",
    "from tqdm import tqdm\n",
    "\n",
    "file_names = [i for i in os.listdir(\"outputs_Zero-shot-CoT/puzzle/scratchpad/\") if i.endswith('.json')]\n",
    "sum_ = 0\n",
    "Scores = []\n",
    "for name in sorted(file_names):\n",
    "    \n",
    "    if 'train' not in name:\n",
    "        with open(f\"outputs_Zero-shot-CoT/puzzle/scratchpad/{name}\", 'r') as f:\n",
    "            l=json.loads(f.read())\n",
    "\n",
    "        Score = []\n",
    "        for i in l:\n",
    "            score = get_score(i)\n",
    "            Score.append(score)\n",
    "\n",
    "        Scores.append(sum(Score)/len(Score))\n",
    "        print(f\"Accuracy for {name}: {sum(Score)/len(Score)}\")\n",
    "\n",
    "print(f\"Overall Score: {sum(Scores)/len(Scores)}\")\n",
    "    "
   ]
  },
  {
   "cell_type": "code",
   "execution_count": null,
   "id": "d81dc8a5-a3fb-48f4-8da8-fa79fd6e1966",
   "metadata": {},
   "outputs": [],
   "source": []
  },
  {
   "cell_type": "markdown",
   "id": "e5622dfa-d820-46c5-b40b-2d51c1f4105c",
   "metadata": {},
   "source": [
    "## Few-shot"
   ]
  },
  {
   "cell_type": "code",
   "execution_count": 159,
   "id": "71cff032-3891-4f03-a4a7-ed811f251176",
   "metadata": {},
   "outputs": [
    {
     "name": "stdout",
     "output_type": "stream",
     "text": [
      "Accuracy for logic_grid_puzzles.test_hard_gpt3.json_final.json: 0.2625\n",
      "Accuracy for logic_grid_puzzles.test_harder_gpt3.json_final.json: 0.2\n",
      "Accuracy for logic_grid_puzzles.test_id_gpt3.json_final.json: 0.3125\n",
      "Accuracy for logic_grid_puzzles.test_id_xl_gpt3.json_final.json: 0.06666666666666667\n",
      "Overall Score: 0.21041666666666667\n"
     ]
    }
   ],
   "source": [
    "import json\n",
    "import os\n",
    "from tqdm import tqdm\n",
    "\n",
    "file_names = [i for i in os.listdir(\"outputs_Few-shot/puzzle/scratchpad/\") if i.endswith('.json')]\n",
    "sum_ = 0\n",
    "Scores = []\n",
    "for name in sorted(file_names):\n",
    "    \n",
    "    if 'train' not in name:8\n",
    "        with open(f\"outputs_Few-shot/puzzle/scratchpad/{name}\", 'r') as f:\n",
    "            l=json.loads(f.read())\n",
    "\n",
    "        Score = []\n",
    "        for i in l:\n",
    "            score = get_score(i)\n",
    "            Score.append(score)\n",
    "\n",
    "        print(f\"Accuracy for {name}: {sum(Score)/len(Score)}\")\n",
    "        Scores.append(sum(Score)/len(Score))\n",
    "        \n",
    "\n",
    "print(f\"Overall Score: {sum(Scores)/len(Scores)}\")"
   ]
  },
  {
   "cell_type": "code",
   "execution_count": null,
   "id": "23385260-04bf-46d8-a0bd-f57e3a972612",
   "metadata": {},
   "outputs": [],
   "source": []
  },
  {
   "cell_type": "markdown",
   "id": "34755e5e-a4fd-4c70-a91c-c0da8a380655",
   "metadata": {},
   "source": [
    "## Few-shot-CoT"
   ]
  },
  {
   "cell_type": "code",
   "execution_count": 162,
   "id": "19fc59b5-c099-4081-8e96-7fe1ff4fe08b",
   "metadata": {
    "tags": []
   },
   "outputs": [
    {
     "name": "stdout",
     "output_type": "stream",
     "text": [
      "Accuracy for logic_grid_puzzles.test_hard_gpt3.json_final.json: 0.35625\n",
      "Accuracy for logic_grid_puzzles.test_harder_gpt3.json_final.json: 0.35\n",
      "Accuracy for logic_grid_puzzles.test_id_gpt3.json_final.json: 0.425\n",
      "Accuracy for logic_grid_puzzles.test_id_xl_gpt3.json_final.json: 0.14444444444444443\n",
      "Overall Score: 0.3189236111111111\n"
     ]
    }
   ],
   "source": [
    "import json\n",
    "import os\n",
    "from tqdm import tqdm\n",
    "\n",
    "file_names = [i for i in os.listdir(\"outputs_Few-shot-CoT/puzzle/scratchpad/\") if i.endswith('.json')]\n",
    "sum_ = 0\n",
    "Scores = []\n",
    "for name in sorted(file_names):\n",
    "    \n",
    "    if 'train' not in name:\n",
    "        with open(f\"outputs_Few-shot-CoT/puzzle/scratchpad/{name}\", 'r') as f:\n",
    "            l=json.loads(f.read())\n",
    "\n",
    "        Score = []\n",
    "        for i in l:\n",
    "            score = get_score(i)\n",
    "            Score.append(score)\n",
    "        Scores.append(sum(Score)/len(Score))\n",
    "        print(f\"Accuracy for {name}: {sum(Score)/len(Score)}\")\n",
    "\n",
    "print(f\"Overall Score: {sum(Scores)/len(Scores)}\")"
   ]
  },
  {
   "cell_type": "code",
   "execution_count": null,
   "id": "e7761f57-baac-480c-92a4-8f41624d528c",
   "metadata": {},
   "outputs": [],
   "source": []
  },
  {
   "cell_type": "code",
   "execution_count": null,
   "id": "82a935c4-35d7-455f-9187-06428d19a24e",
   "metadata": {},
   "outputs": [],
   "source": []
  },
  {
   "cell_type": "code",
   "execution_count": null,
   "id": "39d3dcb6-6067-49b0-b3b4-b71a68998ad8",
   "metadata": {},
   "outputs": [],
   "source": []
  },
  {
   "cell_type": "markdown",
   "id": "1726e1ff-ffb7-4af0-9f23-3feffd603074",
   "metadata": {},
   "source": [
    "# Prompts for DP"
   ]
  },
  {
   "cell_type": "markdown",
   "id": "207c68a1-04c2-4a3d-8ca2-639921966a2a",
   "metadata": {},
   "source": [
    "## Zero-shot"
   ]
  },
  {
   "cell_type": "code",
   "execution_count": 52,
   "id": "5e5f6ded-9a05-4c3f-8aea-e9ad780dc8aa",
   "metadata": {},
   "outputs": [],
   "source": [
    "def get_prompt(item, setting_name):\n",
    "    \n",
    "    prompt = \"\"\"Given a sequence of integers, find a subsequence with the highest sum, such that\n",
    "no two numbers in the subsequence are adjacent in the original sequence.\n",
    "Output a list with \"1\" for chosen numbers and \"2\" for unchosen ones. If multiple\n",
    "solutions exist, select the lexicographically smallest.\n",
    "\n",
    "Finally give the final answer in the last line as \"Final_answer\": [..]\\n\"\"\"\n",
    "    \n",
    "    if setting_name == \"Zero-shot\":\n",
    "        prompt += f\"\\nDo not explain. just give final answer.\\n\\nQuestion = {item['raw_input']}\\n\"\n",
    "        return prompt\n",
    "        \n",
    "    if setting_name == \"Zero-shot-CoT\":\n",
    "        prompt += f\"\\nQuestion = {item['raw_input']}\\n\\nLet's solve step by step:\"\n",
    "            \n",
    "    if setting_name == \"Few-shot\":\n",
    "        prompt += f\"\"\"\n",
    "Question:  [3, 2, 1, 5, 2]\n",
    "Final_answer: [1, 2, 2, 1, 2].\n",
    "\n",
    "Question: [3, -2, -3, -4]\n",
    "Final_answer: [1, 2, 2, 2]\n",
    "\n",
    "[Examples End]\n",
    "\n",
    "Question: {item['raw_input']}\n",
    "        \"\"\"\n",
    "        \n",
    "    if setting_name == \"Few-shot-CoT\":\n",
    "        \n",
    "        prompt += f\"\"\"\n",
    "Question: Let's solve input = [3, 2, 1, 5, 2].\n",
    "Scratchpad: dp[4] = max(input[4], 0) = max(2, 0) = 2\n",
    "dp[3] = max(input[3], input[4], 0) = max(5, 2, 0) = 5\n",
    "dp[2] = max(dp[3], input[2] + dp[4], 0) = max(5, 1 + 2, 0) = 5\n",
    "dp[1] = max(dp[2], input[1] + dp[3], 0) = max(5, 2 + 5, 0) = 7\n",
    "dp[0] = max(dp[1], input[0] + dp[2], 0) = max(7, 3 + 5, 0) = 8\n",
    "Finally, we reconstruct the lexicographically smallest subsequence that fulfills\n",
    "the task objective by selecting numbers as follows. We store the result on a list\n",
    "named \"output\".\n",
    "Let can_use_next_item = True.\n",
    "Since dp[0] == input[0] + dp[2] (8 == 3 + 5) and can_use_next_item == True, we\n",
    "store output[0] = 1. We update can_use_next_item = False.\n",
    "Since dp[1] != input[1] + dp[3] (7 != 2 + 5) or can_use_next_item == False, we\n",
    "store output[1] = 2. We update can_use_next_item = True.\n",
    "Since dp[2] != input[2] + dp[4] (5 != 1 + 2) or can_use_next_item == False, we\n",
    "store output[2] = 2. We update can_use_next_item = True.\n",
    "Since dp[3] == input[3] (5 == 5) and can_use_next_item == True, we store\n",
    "output[3] = 1. We update can_use_next_item = False.\n",
    "Since dp[4] != input[4] (2 != 2) or can_use_next_item == False, we store\n",
    "output[4] = 2.\n",
    "Reconstructing all together, output=[1, 2, 2, 1, 2].\n",
    "\n",
    "Final_answer: [1, 2, 2, 1, 2]\n",
    "\n",
    "[Example End]\n",
    "\n",
    "Questions: Let's solve input = {item['raw_input']}\n",
    "        \"\"\"\n",
    "        \n",
    "    return prompt"
   ]
  },
  {
   "cell_type": "code",
   "execution_count": 57,
   "id": "8ee70096-ef50-4535-a6fd-4a51c145dc04",
   "metadata": {},
   "outputs": [
    {
     "name": "stdout",
     "output_type": "stream",
     "text": [
      "Given a sequence of integers, find a subsequence with the highest sum, such that\n",
      "no two numbers in the subsequence are adjacent in the original sequence.\n",
      "Output a list with \"1\" for chosen numbers and \"2\" for unchosen ones. If multiple\n",
      "solutions exist, select the lexicographically smallest.\n",
      "\n",
      "Finally give the final answer in the last line as \"Final_answer\": [..]\n",
      "\n",
      "Question: Let's solve input = [3, 2, 1, 5, 2].\n",
      "Scratchpad: dp[4] = max(input[4], 0) = max(2, 0) = 2\n",
      "dp[3] = max(input[3], input[4], 0) = max(5, 2, 0) = 5\n",
      "dp[2] = max(dp[3], input[2] + dp[4], 0) = max(5, 1 + 2, 0) = 5\n",
      "dp[1] = max(dp[2], input[1] + dp[3], 0) = max(5, 2 + 5, 0) = 7\n",
      "dp[0] = max(dp[1], input[0] + dp[2], 0) = max(7, 3 + 5, 0) = 8\n",
      "Finally, we reconstruct the lexicographically smallest subsequence that fulfills\n",
      "the task objective by selecting numbers as follows. We store the result on a list\n",
      "named \"output\".\n",
      "Let can_use_next_item = True.\n",
      "Since dp[0] == input[0] + dp[2] (8 == 3 + 5) and can_use_next_item == True, we\n",
      "store output[0] = 1. We update can_use_next_item = False.\n",
      "Since dp[1] != input[1] + dp[3] (7 != 2 + 5) or can_use_next_item == False, we\n",
      "store output[1] = 2. We update can_use_next_item = True.\n",
      "Since dp[2] != input[2] + dp[4] (5 != 1 + 2) or can_use_next_item == False, we\n",
      "store output[2] = 2. We update can_use_next_item = True.\n",
      "Since dp[3] == input[3] (5 == 5) and can_use_next_item == True, we store\n",
      "output[3] = 1. We update can_use_next_item = False.\n",
      "Since dp[4] != input[4] (2 != 2) or can_use_next_item == False, we store\n",
      "output[4] = 2.\n",
      "Reconstructing all together, output=[1, 2, 2, 1, 2].\n",
      "\n",
      "Final_answer: [1, 2, 2, 1, 2]\n",
      "\n",
      "[Example End]\n",
      "\n",
      "Questions: Let's solve input = [3, -2, -3, -4]\n",
      "        \n"
     ]
    }
   ],
   "source": [
    "print(get_prompt(l[0], 'Few-shot-CoT'))"
   ]
  },
  {
   "cell_type": "code",
   "execution_count": 56,
   "id": "d868909f-bd7b-41f9-8fb7-c81a81eb8f0b",
   "metadata": {},
   "outputs": [
    {
     "data": {
      "text/plain": [
       "{'raw_input': [3, -2, -3, -4],\n",
       " 'raw_output': [1, 2, 2, 2],\n",
       " 'prompt': \"Let's solve input = [3, -2, -3, -4]. \\n\\n###\\n\\n\",\n",
       " 'completion': ' dp[3] = max(input[3], 0) = max(-4, 0) = 0\\ndp[2] = max(input[2], input[3], 0) = max(-3, -4, 0) = 0\\ndp[1] = max(dp[2], input[1] + dp[3], 0) = max(0, -2 + 0, 0) = 0\\ndp[0] = max(dp[1], input[0] + dp[2], 0) = max(0, 3 + 0, 0) = 3\\n\\nFinally, we reconstruct the lexicographically smallest subsequence that fulfills the task objective by selecting numbers as follows. We store the result on a list named \"output\".\\n\\nLet can_use_next_item = True.\\nSince dp[0] == input[0] + dp[2] (3 == 3 + 0) and can_use_next_item == True, we store output[0] = 1. We update can_use_next_item = False.\\nSince dp[1] != input[1] + dp[3] (0 != -2 + 0) or can_use_next_item == False, we store output[1] = 2. We update can_use_next_item = True.\\nSince dp[2] != input[2] (0 != -3) or can_use_next_item == False, we store output[2] = 2. We update can_use_next_item = True.\\nSince dp[3] != input[3] (0 != -4) or can_use_next_item == False, we store output[3] = 2.\\n\\nReconstructing all together, output=[1, 2, 2, 2]. ###'}"
      ]
     },
     "execution_count": 56,
     "metadata": {},
     "output_type": "execute_result"
    }
   ],
   "source": [
    "l[0]"
   ]
  },
  {
   "cell_type": "code",
   "execution_count": null,
   "id": "2ff4e507-0292-48b5-aa22-d7574fdb5505",
   "metadata": {},
   "outputs": [],
   "source": []
  },
  {
   "cell_type": "code",
   "execution_count": null,
   "id": "731f11e5-d10e-456c-88d3-01cc29de08e4",
   "metadata": {},
   "outputs": [],
   "source": []
  },
  {
   "cell_type": "code",
   "execution_count": null,
   "id": "47dc84b2-9acb-4dd6-bd40-03e632307143",
   "metadata": {},
   "outputs": [],
   "source": []
  },
  {
   "cell_type": "code",
   "execution_count": 57,
   "id": "b6125803-152d-4a1e-9820-b362637fcb2a",
   "metadata": {},
   "outputs": [
    {
     "name": "stdout",
     "output_type": "stream",
     "text": [
      "Dataset name: scratchpad_4_by_1_1000prompts.json\n"
     ]
    },
    {
     "ename": "TypeError",
     "evalue": "list indices must be integers or slices, not str",
     "output_type": "error",
     "traceback": [
      "\u001b[0;31m---------------------------------------------------------------------------\u001b[0m",
      "\u001b[0;31mTypeError\u001b[0m                                 Traceback (most recent call last)",
      "Cell \u001b[0;32mIn[57], line 139\u001b[0m\n\u001b[1;32m    137\u001b[0m     \u001b[38;5;28;01melse\u001b[39;00m:\n\u001b[1;32m    138\u001b[0m         ll \u001b[38;5;241m=\u001b[39m [json\u001b[38;5;241m.\u001b[39mloads(i) \u001b[38;5;28;01mfor\u001b[39;00m i \u001b[38;5;129;01min\u001b[39;00m f\u001b[38;5;241m.\u001b[39mread()\u001b[38;5;241m.\u001b[39msplit(\u001b[38;5;124m\"\u001b[39m\u001b[38;5;130;01m\\n\u001b[39;00m\u001b[38;5;124m\"\u001b[39m) \u001b[38;5;28;01mif\u001b[39;00m i\u001b[38;5;241m!=\u001b[39m\u001b[38;5;124m'\u001b[39m\u001b[38;5;124m'\u001b[39m]\n\u001b[0;32m--> 139\u001b[0m ll \u001b[38;5;241m=\u001b[39m [i[\u001b[38;5;124m'\u001b[39m\u001b[38;5;124mid\u001b[39m\u001b[38;5;124m'\u001b[39m] \u001b[38;5;28;01mfor\u001b[39;00m i \u001b[38;5;129;01min\u001b[39;00m ll]\n\u001b[1;32m    143\u001b[0m \u001b[38;5;66;03m# l = l[:250]\u001b[39;00m\n\u001b[1;32m    144\u001b[0m final_json \u001b[38;5;241m=\u001b[39m []\n",
      "Cell \u001b[0;32mIn[57], line 139\u001b[0m, in \u001b[0;36m<listcomp>\u001b[0;34m(.0)\u001b[0m\n\u001b[1;32m    137\u001b[0m     \u001b[38;5;28;01melse\u001b[39;00m:\n\u001b[1;32m    138\u001b[0m         ll \u001b[38;5;241m=\u001b[39m [json\u001b[38;5;241m.\u001b[39mloads(i) \u001b[38;5;28;01mfor\u001b[39;00m i \u001b[38;5;129;01min\u001b[39;00m f\u001b[38;5;241m.\u001b[39mread()\u001b[38;5;241m.\u001b[39msplit(\u001b[38;5;124m\"\u001b[39m\u001b[38;5;130;01m\\n\u001b[39;00m\u001b[38;5;124m\"\u001b[39m) \u001b[38;5;28;01mif\u001b[39;00m i\u001b[38;5;241m!=\u001b[39m\u001b[38;5;124m'\u001b[39m\u001b[38;5;124m'\u001b[39m]\n\u001b[0;32m--> 139\u001b[0m ll \u001b[38;5;241m=\u001b[39m [\u001b[43mi\u001b[49m\u001b[43m[\u001b[49m\u001b[38;5;124;43m'\u001b[39;49m\u001b[38;5;124;43mid\u001b[39;49m\u001b[38;5;124;43m'\u001b[39;49m\u001b[43m]\u001b[49m \u001b[38;5;28;01mfor\u001b[39;00m i \u001b[38;5;129;01min\u001b[39;00m ll]\n\u001b[1;32m    143\u001b[0m \u001b[38;5;66;03m# l = l[:250]\u001b[39;00m\n\u001b[1;32m    144\u001b[0m final_json \u001b[38;5;241m=\u001b[39m []\n",
      "\u001b[0;31mTypeError\u001b[0m: list indices must be integers or slices, not str"
     ]
    }
   ],
   "source": [
    "import json\n",
    "import os\n",
    "from tenacity import (\n",
    "    retry,\n",
    "    stop_after_attempt,\n",
    "    wait_random_exponential,\n",
    ")  # for exponential backoff\n",
    "from tqdm import tqdm\n",
    "from multiprocessing.pool import ThreadPool\n",
    "import threading\n",
    "\n",
    "import openai\n",
    "openai.api_type = \"azure\"\n",
    "openai.api_base = \"https://mrityunjoypanday-gpt4.openai.azure.com/\"\n",
    "openai.api_version = \"2023-03-15-preview\"\n",
    "openai.api_key = \"d020880e0119447fbde26d3dcfb09bd7\"\n",
    "\n",
    "\n",
    "def get_prompt(item, setting_name):\n",
    "    \n",
    "    prompt = \"\"\"To multiply two numbers, start by multiplying the rightmost digit of the\n",
    "multiplicand by each digit of the multiplier, writing down the products and\n",
    "carrying over any remainders. Repeat this process for each digit of the\n",
    "multiplicand, and then add up all the partial products to obtain the final\n",
    "result.\n",
    "\n",
    "Finally give the final answer in the last line as \"Final_answer\": final answer\\n\"\"\"\n",
    "    \n",
    "    if \"Zero-shot\" in setting_name:\n",
    "        prompt += f\"Do not explain. just give final answer.\\n\\nQuestion: {item['question']}\\n\"\n",
    "        \n",
    "        if \"CoT\" in setting_name:\n",
    "            prompt += f\"\\nLet's perform the multiplication step by step:\"\n",
    "            \n",
    "    if setting_name == \"Few-shot\":\n",
    "        prompt = f\"\"\"\n",
    "Given a two numbers you need to tell the product of these two numbers.\n",
    "\n",
    "Finally give the final answer in the last line as \"Final_answer\": final answer.\n",
    "\n",
    "Question: what's 22 times 2? \n",
    "Final_answer: 44.\n",
    "\n",
    "Question: what's 78 times 8?\n",
    "Final_answer: 624.\n",
    "\n",
    "[Examples End]\n",
    "\n",
    "Question: {item['question']}\n",
    "        \"\"\"\n",
    "        \n",
    "        return prompt\n",
    "        \n",
    "    if setting_name == \"Few-shot-CoT\":\n",
    "        \n",
    "        prompt += f\"\"\"\n",
    "Questions: What is 28277 times 788?\n",
    "Answer: Let's perform the multiplication step by step:\n",
    "\n",
    "Let's multiply 28277 by the digit in the ones place of 788, which is 8.\n",
    "\n",
    "1. Multiply 8 by the digit in the ones place of 28277, which is 7. This gives 7 x 8 = 56. Write down the result 6 and carry over the 5 to the next step.\n",
    "2. Multiply 8 by the digit in the tens place of 28277, which is 7. Add the carryover from the previous step to account for this. This gives (7 x 8) + 5 = 61. Write down the result 1 and carry over the 6 to the next step.\n",
    "3. Multiply 8 by the digit in the hundreds place of 28277, which is 2. Add the carryover from the previous step to account for this. This gives (2 x 8) + 6 = 22. Write down the result 2 and carry over the 2 to the next step.\n",
    "4. Multiply 8 by the digit in the thousands place of 28277, which is 8. Add the carryover from the previous step to account for this. This gives (8 x 8) + 2 = 66. Write down the result 6 and carry over the 6 to the next step.\n",
    "5. Multiply 8 by the digit in the ten-thousands place of 28277, which is 2. Add the carryover from the previous step to account for this. This gives (2 x 8) + 6 = 22. Write down the result 22.\n",
    "6. The partial product for this step is A=226216 which is the concatenation of the digits we found in each step.\n",
    "\n",
    "Now, let's multiply 28277 by the digit in the tens place of 788, which is 8.\n",
    "\n",
    "7. Multiply 8 by the digit in the ones place of 28277, which is 7. This gives 7 x 8 = 56. Write down the result 6 and carry over the 5 to the next step.\n",
    "8. Multiply 8 by the digit in the tens place of 28277, which is 7. Add the carryover from the previous step to account for this. This gives (7 x 8) + 5 = 61. Write down the result 1 and carry over the 6 to the next step.\n",
    "9. Multiply 8 by the digit in the hundreds place of 28277, which is 2. Add the carryover from the previous step to account for this. This gives (2 x 8) + 6 = 22. Write down the result 2 and carry over the 2 to the next step.\n",
    "10. Multiply 8 by the digit in the thousands place of 28277, which is 8. Add the carryover from the previous step to account for this. This gives (8 x 8) + 2 = 66. Write down the result 6 and carry over the 6 to the next step.\n",
    "11. Multiply 8 by the digit in the ten-thousands place of 28277, which is 2. Add the carryover from the previous step to account for this. This gives (2 x 8) + 6 = 22. Write down the result 22.\n",
    "12. The partial product for this step is B=226216 which is the concatenation of the digits we found in each step.\n",
    "\n",
    "Now, let's multiply 28277 by the digit in the hundreds place of 788, which is 7.\n",
    "\n",
    "13. Multiply 7 by the digit in the ones place of 28277, which is 7. This gives 7 x 7 = 49. Write down the result 9 and carry over the 4 to the next step.\n",
    "14. Multiply 7 by the digit in the tens place of 28277, which is 7. Add the carryover from the previous step to account for this. This gives (7 x 7) + 4 = 53. Write down the result 3 and carry over the 5 to the next step.\n",
    "15. Multiply 7 by the digit in the hundreds place of 28277, which is 2. Add the carryover from the previous step to account for this. This gives (2 x 7) + 5 = 19. Write down the result 9 and carry over the 1 to the next step.\n",
    "16. Multiply 7 by the digit in the thousands place of 28277, which is 8. Add the carryover from the previous step to account for this. This gives (8 x 7) + 1 = 57. Write down the result 7 and carry over the 5 to the next step.\n",
    "17. Multiply 7 by the digit in the ten-thousands place of 28277, which is 2. Add the carryover from the previous step to account for this. This gives (2 x 7) + 5 = 19. Write down the result 19.\n",
    "18. The partial product for this step is C=197939 which is the concatenation of the digits we found in each step.\n",
    "\n",
    "Now, let's sum the 3 partial products A, B and C, and take into account the position of each digit: A=226216 (from multiplication by 8), B=226216 (from multiplication by 8 but shifted one place to the left, so it becomes 2262160) and C=197939 (from multiplication by 7 but shifted two places to the left, so it becomes 19793900). The final answer is 226216 x 1 + 226216 x 10 + 197939 x 100 = 226216 + 2262160 + 19793900 = 22282276.\n",
    "\n",
    "Final_answer: 22282276\n",
    "\n",
    "[Example End]\n",
    "\n",
    "Questions: {item['question']}\n",
    "        \"\"\"\n",
    "        \n",
    "    return prompt\n",
    "\n",
    "\n",
    "def get_response(a):\n",
    "    item, setting_name = a\n",
    "    prompt = get_prompt(item, setting_name)\n",
    "    response = gpt4(prompt)\n",
    "    item['pred'] = response\n",
    "    return item\n",
    "\n",
    "        \n",
    "# setting_names = 'Zero-shot', 'Zero-shot-CoT', 'Few-shot', 'Few-shot-CoT'\n",
    "setting_name = 'Zero-shot'\n",
    "\n",
    "data = \"multiplication/scratchpad\"\n",
    "output_dir = f\"outputs_{setting_name}/{data}/\"\n",
    "\n",
    "if not os.path.exists(output_dir):\n",
    "    os.makedirs(output_dir)\n",
    "\n",
    "batch_size = 6\n",
    "file_names = [i for i in os.listdir(f\"data/{data}/\") if i.endswith('.json') or i.endswith('.jsonl')]\n",
    "for name in file_names:\n",
    "    \n",
    "    #name = name.split(\".\")\n",
    "    print(\"Dataset name:\", name)\n",
    "    # read the input file.\n",
    "    with open(f\"data/{data}/{name}\", 'r') as f:\n",
    "        if '.json' in name:\n",
    "            l = json.loads(f.read())\n",
    "        else:\n",
    "            l= [json.loads(i) for i in f.read().split(\"\\n\") if i!='']\n",
    "            \n",
    "    name = name.split(\".\")[0]\n",
    "    with open(f\"outputs_Zero-shot_1/{data}/{name}_final.json_final.json\", 'r') as f:\n",
    "        if '.json' in name:\n",
    "            ll = json.loads(f.read())\n",
    "        else:\n",
    "            ll = [json.loads(i) for i in f.read().split(\"\\n\") if i!='']\n",
    "    ll = [i['id'] for i in ll]\n",
    "    \n",
    "    \n",
    "    \n",
    "    # l = l[:250]\n",
    "    final_json = []\n",
    "    \n",
    "    batch = []\n",
    "    for item in tqdm(l):\n",
    "        \n",
    "        if item['id'] not in ll:\n",
    "            \n",
    "            print(item['id'], end='  ')\n",
    "            batch.append(item)\n",
    "\n",
    "            if len(batch)<batch_size:\n",
    "                continue\n",
    "\n",
    "            batch = []"
   ]
  },
  {
   "cell_type": "code",
   "execution_count": 62,
   "id": "612c1e0e-38c3-48fd-ac80-c1cb13806e18",
   "metadata": {
    "collapsed": true,
    "jupyter": {
     "outputs_hidden": true
    },
    "tags": []
   },
   "outputs": [
    {
     "data": {
      "text/plain": [
       "[0,\n",
       " 1,\n",
       " 2,\n",
       " 3,\n",
       " 4,\n",
       " 6,\n",
       " 7,\n",
       " 8,\n",
       " 9,\n",
       " 10,\n",
       " 12,\n",
       " 13,\n",
       " 14,\n",
       " 15,\n",
       " 16,\n",
       " 18,\n",
       " 19,\n",
       " 20,\n",
       " 21,\n",
       " 22,\n",
       " 24,\n",
       " 25,\n",
       " 26,\n",
       " 27,\n",
       " 28,\n",
       " 30,\n",
       " 31,\n",
       " 32,\n",
       " 33,\n",
       " 34,\n",
       " 36,\n",
       " 37,\n",
       " 38,\n",
       " 39,\n",
       " 40,\n",
       " 42,\n",
       " 43,\n",
       " 44,\n",
       " 45,\n",
       " 46,\n",
       " 48,\n",
       " 49,\n",
       " 50,\n",
       " 51,\n",
       " 52,\n",
       " 54,\n",
       " 55,\n",
       " 56,\n",
       " 57,\n",
       " 58,\n",
       " 60,\n",
       " 61,\n",
       " 62,\n",
       " 63,\n",
       " 64,\n",
       " 66,\n",
       " 67,\n",
       " 68,\n",
       " 69,\n",
       " 70,\n",
       " 72,\n",
       " 73,\n",
       " 74,\n",
       " 75,\n",
       " 76,\n",
       " 78,\n",
       " 79,\n",
       " 80,\n",
       " 81,\n",
       " 82,\n",
       " 84,\n",
       " 85,\n",
       " 86,\n",
       " 87,\n",
       " 88,\n",
       " 90,\n",
       " 91,\n",
       " 92,\n",
       " 93,\n",
       " 94,\n",
       " 96,\n",
       " 97,\n",
       " 98,\n",
       " 99,\n",
       " 100,\n",
       " 102,\n",
       " 103,\n",
       " 104,\n",
       " 105,\n",
       " 106,\n",
       " 108,\n",
       " 109,\n",
       " 110,\n",
       " 111,\n",
       " 112,\n",
       " 114,\n",
       " 115,\n",
       " 116,\n",
       " 117,\n",
       " 118,\n",
       " 120,\n",
       " 121,\n",
       " 122,\n",
       " 123,\n",
       " 124,\n",
       " 126,\n",
       " 127,\n",
       " 128,\n",
       " 129,\n",
       " 130,\n",
       " 132,\n",
       " 133,\n",
       " 134,\n",
       " 135,\n",
       " 136,\n",
       " 138,\n",
       " 139,\n",
       " 140,\n",
       " 141,\n",
       " 142,\n",
       " 144,\n",
       " 145,\n",
       " 146,\n",
       " 147,\n",
       " 148,\n",
       " 150,\n",
       " 151,\n",
       " 152,\n",
       " 153,\n",
       " 154,\n",
       " 156,\n",
       " 157,\n",
       " 158,\n",
       " 159,\n",
       " 160,\n",
       " 162,\n",
       " 163,\n",
       " 164,\n",
       " 165,\n",
       " 166,\n",
       " 168,\n",
       " 169,\n",
       " 170,\n",
       " 171,\n",
       " 172,\n",
       " 174,\n",
       " 175,\n",
       " 176,\n",
       " 177,\n",
       " 178,\n",
       " 180,\n",
       " 181,\n",
       " 182,\n",
       " 183,\n",
       " 184,\n",
       " 186,\n",
       " 187,\n",
       " 188,\n",
       " 189,\n",
       " 190,\n",
       " 192,\n",
       " 193,\n",
       " 194,\n",
       " 195,\n",
       " 196,\n",
       " 198,\n",
       " 199,\n",
       " 200,\n",
       " 201,\n",
       " 202,\n",
       " 204,\n",
       " 205,\n",
       " 206,\n",
       " 207,\n",
       " 208,\n",
       " 210,\n",
       " 211,\n",
       " 212,\n",
       " 213,\n",
       " 214,\n",
       " 216,\n",
       " 217,\n",
       " 218,\n",
       " 219,\n",
       " 220,\n",
       " 222,\n",
       " 223,\n",
       " 224,\n",
       " 225,\n",
       " 226,\n",
       " 228,\n",
       " 229,\n",
       " 230,\n",
       " 231,\n",
       " 232,\n",
       " 234,\n",
       " 235,\n",
       " 236,\n",
       " 237,\n",
       " 238,\n",
       " 240,\n",
       " 241,\n",
       " 242,\n",
       " 243,\n",
       " 244]"
      ]
     },
     "execution_count": 62,
     "metadata": {},
     "output_type": "execute_result"
    }
   ],
   "source": [
    "[i['id'] for i in l]"
   ]
  },
  {
   "cell_type": "code",
   "execution_count": 43,
   "id": "7df8ecaa-e7f5-440c-9e9b-d41bf8b94d34",
   "metadata": {},
   "outputs": [
    {
     "data": {
      "text/plain": [
       "'scratchpad_4_by_1_1000prompts'"
      ]
     },
     "execution_count": 43,
     "metadata": {},
     "output_type": "execute_result"
    }
   ],
   "source": [
    "name"
   ]
  },
  {
   "cell_type": "code",
   "execution_count": 71,
   "id": "04676e8e-8cb9-46d3-a959-b0a07ae689ce",
   "metadata": {},
   "outputs": [],
   "source": [
    "name = name.split(\".\")[0]\n",
    "with open(f\"outputs_Zero-shot_1/multiplication/scratchpad/scratchpad_2_by_1_prompts_final.json_final.json\", 'r') as f:\n",
    "    ll = json.loads(f.read())\n"
   ]
  },
  {
   "cell_type": "code",
   "execution_count": 77,
   "id": "84aff5ee-fd50-466e-95d8-5be60b1429cf",
   "metadata": {
    "tags": []
   },
   "outputs": [],
   "source": [
    "for i in ll:\n",
    "    if isinstance(i, list):\n",
    "        print('yes')"
   ]
  },
  {
   "cell_type": "code",
   "execution_count": null,
   "id": "470aebd6-872d-4fc9-b63b-d8c9a90fc875",
   "metadata": {},
   "outputs": [],
   "source": []
  },
  {
   "cell_type": "code",
   "execution_count": null,
   "id": "fc1a6112-7522-4c4a-8b4e-e49e6d2b9f78",
   "metadata": {},
   "outputs": [],
   "source": []
  },
  {
   "cell_type": "code",
   "execution_count": null,
   "id": "25111b05-eeab-408e-a7c2-ccfc68769511",
   "metadata": {},
   "outputs": [],
   "source": []
  },
  {
   "cell_type": "code",
   "execution_count": 10,
   "id": "127ca24c-bc16-48c8-990a-c11d953cafed",
   "metadata": {},
   "outputs": [
    {
     "name": "stdout",
     "output_type": "stream",
     "text": [
      "logic_grid_puzzles.test_id_gpt3.json 160\n",
      "logic_grid_puzzles.test_harder_gpt3.json 160\n",
      "logic_grid_puzzles.test_id_xl_gpt3.json 90\n",
      "logic_grid_puzzles.test_hard_gpt3.json 160\n",
      "570\n"
     ]
    }
   ],
   "source": [
    "file_names = [i for i in os.listdir(\"data/puzzle/scratchpad/\") if i.endswith('.json')]\n",
    "sum_ = 0\n",
    "for name in file_names:\n",
    "    if 'train' not in name:\n",
    "        with open(f\"data/puzzle/scratchpad/{name}\", 'r') as f:\n",
    "            l= [json.loads(i) for i in f.read().split(\"\\n\") if i!='']\n",
    "        print(name, len(l))\n",
    "        sum_ += len(l)\n",
    "print(sum_)"
   ]
  },
  {
   "cell_type": "code",
   "execution_count": 16,
   "id": "96c4f889-f5a7-462c-9960-91ab42d5b19e",
   "metadata": {},
   "outputs": [],
   "source": [
    "with open(f\"data/puzzle/scratchpad/logic_grid_puzzles.reasoning.train_5k_gpt3.json\", 'r') as f:\n",
    "    l= [json.loads(i) for i in f.read().split(\"\\n\") if i!='']"
   ]
  },
  {
   "cell_type": "code",
   "execution_count": 13,
   "id": "34bd69ae-a7f5-4c41-bf0e-108785ffff98",
   "metadata": {},
   "outputs": [
    {
     "name": "stdout",
     "output_type": "stream",
     "text": [
      "This is a logic puzzle. There are 2 houses (numbered 1 on the left, 2 on the right), from the perspective of someone standing across the street from them. Each has a different person in them. They have different characteristics:\n",
      " - Each person has a unique name: arnold, eric\n",
      " - Everyone has a favorite smoothie: cherry, desert\n",
      "\n",
      "1. Arnold is in the first house.\n",
      "2. Arnold and the person who likes Cherry smoothies are next to each other.\n",
      "\n",
      "Let's think step by step. Please first briefly talk about your reasoning and show your final solution by filling the blanks in the below table.\n",
      "\n",
      "$ House: ___ | Name: ___ | Smoothie: ___ |\n",
      "$ House: ___ | Name: ___ | Smoothie: ___ | \n",
      "\n",
      "###\n",
      "\n",
      "\n"
     ]
    }
   ],
   "source": [
    "print(l[0]['prompt'])"
   ]
  },
  {
   "cell_type": "code",
   "execution_count": 14,
   "id": "fa69339a-5782-4f57-ab8f-0ec8713941cc",
   "metadata": {},
   "outputs": [
    {
     "name": "stdout",
     "output_type": "stream",
     "text": [
      "Final solution:\n",
      "$ House: 1 | Name: arnold | Smoothie: desert |\n",
      "$ House: 2 | Name: eric | Smoothie: cherry |\n",
      " ###\n"
     ]
    }
   ],
   "source": [
    "print(l[0]['completion'])"
   ]
  },
  {
   "cell_type": "code",
   "execution_count": null,
   "id": "e1d92445-194d-460e-b001-cbdaa4198528",
   "metadata": {},
   "outputs": [],
   "source": [
    "This is a logic puzzle. There are 3 houses (numbered 1 on the left, 3 on the\n",
    "right). Each has a different person in them. They have different characteristics:\n",
    "- Each person has a unique name: peter, eric, arnold\n",
    "- People have different favorite sports: soccer, tennis, basketball\n",
    "- People own different car models: tesla model 3, ford f150, toyota camry\n",
    "1. The person who owns a Ford F-150 is the person who loves tennis.\n",
    "2. Arnold is in the third house.\n",
    "3. The person who owns a Toyota Camry is directly left of the person who owns a\n",
    "Ford F-150.\n",
    "4. Eric is the person who owns a Toyota Camry.\n",
    "5. The person who loves basketball is Eric.\n",
    "6. The person who loves tennis and the person who loves soccer are next to each\n",
    "other.\n",
    "Let's think step by step. Please first briefly talk about your reasoning and show\n",
    "your final solution by filling the blanks in the below table.\n",
    "$ House: ___ $ Name: ___ $ Sports: ___ $ Car: ___\n",
    "$ House: ___ $ Name: ___ $ Sports: ___ $ Car: ___\n",
    "$ House: ___ $ Name: ___ $ Sports: ___ $ Car: ___\n",
    "Reasoning:\n",
    "Step 1: First apply clue <Arnold is in the third house.> We know that The Name in\n",
    "house 3 is arnold.\n",
    "Step 2: Then combine clues: <The person who loves tennis and the person who loves\n",
    "soccer are next to each other.> <The person who loves basketball is Eric.>\n",
    "Unique Values Rules and the fixed table structure. We know that The Name in house\n",
    "1 is eric. The FavoriteSport in house 1 is basketball. The Name in house 2 is\n",
    "peter.\n",
    "Step 3: Then apply clue <Eric is the person who owns a Toyota Camry.> We know\n",
    "that The CarModel in house 1 is toyota camry.\n",
    "Step 4: Then apply clue <The person who owns a Toyota Camry is directly left of\n",
    "the person who owns a Ford F-150.> and Unique Values We know that The CarModel in\n",
    "house 2 is ford f150. The CarModel in house 3 is tesla model 3.\n",
    "Step 5: Then apply clue <The person who owns a Ford F-150 is the person who loves\n",
    "tennis.> and Unique Values We know that The FavoriteSport in house 2 is tennis.\n",
    "The FavoriteSport in house 3 is soccer.\n",
    "The puzzle is solved.\n",
    "Final solution:\n",
    "$ House: 1 $ Name: Eric $ Sports: Basketball $ Car: Camry\n",
    "$ House: 2 $ Name: Peter $ Sports: Tennis $ Car: Ford\n",
    "$ House: 3 $ Name: Arnold $ Sports: Soccer $ Car: Tesla"
   ]
  },
  {
   "cell_type": "code",
   "execution_count": 19,
   "id": "d8ad7dc5-307b-44dd-afce-06d743e65f5e",
   "metadata": {},
   "outputs": [],
   "source": [
    "def get_prompt(item, setting_name):\n",
    "    \n",
    "    if setting_name == \"Zero-shot\":\n",
    "        prompt = item['prompt'].replace(\"Let's think step by step. Please first briefly talk about your reasoning and\", \"\")\n",
    "        return prompt\n",
    "        \n",
    "    if setting_name == \"Zero-shot-CoT\":\n",
    "        prompt = f\"{item['prompt']}\"\n",
    "            \n",
    "    if setting_name == \"Few-shot\":\n",
    "        prompt = f\"\"\"\n",
    "This is a logic puzzle. There are 2 houses (numbered 1 on the left, 2 on the right), from the perspective of someone standing across the street from them. Each has a different person in them. They have different characteristics:\n",
    " - Each person has a unique name: arnold, eric\n",
    " - Everyone has a favorite smoothie: cherry, desert\n",
    "\n",
    "1. Arnold is in the first house.\n",
    "2. Arnold and the person who likes Cherry smoothies are next to each other.\n",
    "\n",
    "show your final solution by filling the blanks in the below table.\n",
    "\n",
    "$ House: ___ | Name: ___ | Smoothie: ___ |\n",
    "$ House: ___ | Name: ___ | Smoothie: ___ | \n",
    "\n",
    "###\n",
    "\n",
    "Final solution:\n",
    "$ House: 1 | Name: arnold | Smoothie: desert |\n",
    "$ House: 2 | Name: eric | Smoothie: cherry |\n",
    "\n",
    "[Examples End]\n",
    "\n",
    "\"\"\"\n",
    "        prompt += item['prompt'].replace(\"Let's think step by step. Please first briefly talk about your reasoning and\", \"\")\n",
    "        \n",
    "    if setting_name == \"Few-shot-CoT\":\n",
    "        \n",
    "        prompt = f\"\"\"\n",
    "This is a logic puzzle. There are 3 houses (numbered 1 on the left, 3 on the\n",
    "right). Each has a different person in them. They have different characteristics:\n",
    "- Each person has a unique name: peter, eric, arnold\n",
    "- People have different favorite sports: soccer, tennis, basketball\n",
    "- People own different car models: tesla model 3, ford f150, toyota camry\n",
    "1. The person who owns a Ford F-150 is the person who loves tennis.\n",
    "2. Arnold is in the third house.\n",
    "3. The person who owns a Toyota Camry is directly left of the person who owns a\n",
    "Ford F-150.\n",
    "4. Eric is the person who owns a Toyota Camry.\n",
    "5. The person who loves basketball is Eric.\n",
    "6. The person who loves tennis and the person who loves soccer are next to each\n",
    "other.\n",
    "Let's think step by step. Please first briefly talk about your reasoning and show\n",
    "your final solution by filling the blanks in the below table.\n",
    "$ House: ___ $ Name: ___ $ Sports: ___ $ Car: ___\n",
    "$ House: ___ $ Name: ___ $ Sports: ___ $ Car: ___\n",
    "$ House: ___ $ Name: ___ $ Sports: ___ $ Car: ___\n",
    "Reasoning:\n",
    "Step 1: First apply clue <Arnold is in the third house.> We know that The Name in\n",
    "house 3 is arnold.\n",
    "Step 2: Then combine clues: <The person who loves tennis and the person who loves\n",
    "soccer are next to each other.> <The person who loves basketball is Eric.>\n",
    "Unique Values Rules and the fixed table structure. We know that The Name in house\n",
    "1 is eric. The FavoriteSport in house 1 is basketball. The Name in house 2 is\n",
    "peter.\n",
    "Step 3: Then apply clue <Eric is the person who owns a Toyota Camry.> We know\n",
    "that The CarModel in house 1 is toyota camry.\n",
    "Step 4: Then apply clue <The person who owns a Toyota Camry is directly left of\n",
    "the person who owns a Ford F-150.> and Unique Values We know that The CarModel in\n",
    "house 2 is ford f150. The CarModel in house 3 is tesla model 3.\n",
    "Step 5: Then apply clue <The person who owns a Ford F-150 is the person who loves\n",
    "tennis.> and Unique Values We know that The FavoriteSport in house 2 is tennis.\n",
    "The FavoriteSport in house 3 is soccer.\n",
    "The puzzle is solved.\n",
    "Final solution:\n",
    "$ House: 1 $ Name: Eric $ Sports: Basketball $ Car: Camry\n",
    "$ House: 2 $ Name: Peter $ Sports: Tennis $ Car: Ford\n",
    "$ House: 3 $ Name: Arnold $ Sports: Soccer $ Car: Tesla\n",
    "\n",
    "[Example End]\n",
    "\n",
    "{item['prompt']}\n",
    "        \"\"\"\n",
    "        \n",
    "    return prompt"
   ]
  },
  {
   "cell_type": "code",
   "execution_count": 20,
   "id": "f3254a5c-2677-47ae-9fda-a67b013d9dc7",
   "metadata": {},
   "outputs": [],
   "source": [
    "with open(f\"data/puzzle/scratchpad/logic_grid_puzzles.test_hard_gpt3.json\", 'r') as f:\n",
    "    l= [json.loads(i) for i in f.read().split(\"\\n\") if i!='']"
   ]
  },
  {
   "cell_type": "code",
   "execution_count": 24,
   "id": "117d25ff-6662-42e7-8271-1eda1d956868",
   "metadata": {},
   "outputs": [
    {
     "name": "stdout",
     "output_type": "stream",
     "text": [
      "\n",
      "This is a logic puzzle. There are 3 houses (numbered 1 on the left, 3 on the\n",
      "right). Each has a different person in them. They have different characteristics:\n",
      "- Each person has a unique name: peter, eric, arnold\n",
      "- People have different favorite sports: soccer, tennis, basketball\n",
      "- People own different car models: tesla model 3, ford f150, toyota camry\n",
      "1. The person who owns a Ford F-150 is the person who loves tennis.\n",
      "2. Arnold is in the third house.\n",
      "3. The person who owns a Toyota Camry is directly left of the person who owns a\n",
      "Ford F-150.\n",
      "4. Eric is the person who owns a Toyota Camry.\n",
      "5. The person who loves basketball is Eric.\n",
      "6. The person who loves tennis and the person who loves soccer are next to each\n",
      "other.\n",
      "Let's think step by step. Please first briefly talk about your reasoning and show\n",
      "your final solution by filling the blanks in the below table.\n",
      "$ House: ___ $ Name: ___ $ Sports: ___ $ Car: ___\n",
      "$ House: ___ $ Name: ___ $ Sports: ___ $ Car: ___\n",
      "$ House: ___ $ Name: ___ $ Sports: ___ $ Car: ___\n",
      "Reasoning:\n",
      "Step 1: First apply clue <Arnold is in the third house.> We know that The Name in\n",
      "house 3 is arnold.\n",
      "Step 2: Then combine clues: <The person who loves tennis and the person who loves\n",
      "soccer are next to each other.> <The person who loves basketball is Eric.>\n",
      "Unique Values Rules and the fixed table structure. We know that The Name in house\n",
      "1 is eric. The FavoriteSport in house 1 is basketball. The Name in house 2 is\n",
      "peter.\n",
      "Step 3: Then apply clue <Eric is the person who owns a Toyota Camry.> We know\n",
      "that The CarModel in house 1 is toyota camry.\n",
      "Step 4: Then apply clue <The person who owns a Toyota Camry is directly left of\n",
      "the person who owns a Ford F-150.> and Unique Values We know that The CarModel in\n",
      "house 2 is ford f150. The CarModel in house 3 is tesla model 3.\n",
      "Step 5: Then apply clue <The person who owns a Ford F-150 is the person who loves\n",
      "tennis.> and Unique Values We know that The FavoriteSport in house 2 is tennis.\n",
      "The FavoriteSport in house 3 is soccer.\n",
      "The puzzle is solved.\n",
      "Final solution:\n",
      "$ House: 1 $ Name: Eric $ Sports: Basketball $ Car: Camry\n",
      "$ House: 2 $ Name: Peter $ Sports: Tennis $ Car: Ford\n",
      "$ House: 3 $ Name: Arnold $ Sports: Soccer $ Car: Tesla\n",
      "\n",
      "[Example End]\n",
      "\n",
      "This is a logic puzzle. There are 2 houses (numbered 1 on the left, 2 on the right), from the perspective of someone standing across the street from them. Each has a different person in them. They have different characteristics:\n",
      " - Each person has a unique name: arnold, eric\n",
      " - Everyone has a favorite smoothie: cherry, desert\n",
      "\n",
      "1. Arnold is in the first house.\n",
      "2. Arnold and the person who likes Cherry smoothies are next to each other.\n",
      "\n",
      "Let's think step by step. Please first briefly talk about your reasoning and show your final solution by filling the blanks in the below table.\n",
      "\n",
      "$ House: ___ | Name: ___ | Smoothie: ___ |\n",
      "$ House: ___ | Name: ___ | Smoothie: ___ | \n",
      "\n",
      "###\n",
      "\n",
      "\n",
      "        \n"
     ]
    }
   ],
   "source": [
    "print(get_prompt(l[0], \"Few-shot-CoT\"))"
   ]
  },
  {
   "cell_type": "code",
   "execution_count": 25,
   "id": "fc7d544d-4068-42b0-ba0a-aed19daf0012",
   "metadata": {},
   "outputs": [
    {
     "data": {
      "text/plain": [
       "'Final solution:\\n$ House: 1 | Name: arnold | Smoothie: desert |\\n$ House: 2 | Name: eric | Smoothie: cherry |\\n ###'"
      ]
     },
     "execution_count": 25,
     "metadata": {},
     "output_type": "execute_result"
    }
   ],
   "source": [
    "l[0]['completion']"
   ]
  },
  {
   "cell_type": "code",
   "execution_count": null,
   "id": "0908bb3c-e199-4408-9e0a-fe9af41dda6b",
   "metadata": {},
   "outputs": [],
   "source": []
  }
 ],
 "metadata": {
  "kernelspec": {
   "display_name": "pynew",
   "language": "python",
   "name": "pynew"
  },
  "language_info": {
   "codemirror_mode": {
    "name": "ipython",
    "version": 3
   },
   "file_extension": ".py",
   "mimetype": "text/x-python",
   "name": "python",
   "nbconvert_exporter": "python",
   "pygments_lexer": "ipython3",
   "version": "3.9.18"
  }
 },
 "nbformat": 4,
 "nbformat_minor": 5
}
