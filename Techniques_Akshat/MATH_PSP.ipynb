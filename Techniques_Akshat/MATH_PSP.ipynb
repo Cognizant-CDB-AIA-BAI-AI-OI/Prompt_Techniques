{
 "cells": [
  {
   "cell_type": "code",
   "execution_count": null,
   "id": "e37f4076-41b9-4a33-b4c9-e6dfedd6b2e6",
   "metadata": {},
   "outputs": [],
   "source": [
    "from tqdm import tqdm, trange\n",
    "import json\n",
    "import pandas as pd\n",
    "import time\n",
    "import openai\n",
    "import argparse"
   ]
  },
  {
   "cell_type": "code",
   "execution_count": null,
   "id": "4f9d5e83-d505-4738-ab3c-5c80ca488544",
   "metadata": {},
   "outputs": [],
   "source": [
    "openai.api_type = \"\"\n",
    "openai.api_base = \"\"\n",
    "openai.api_version = \"\"\n",
    "openai.api_key = \"\""
   ]
  },
  {
   "cell_type": "code",
   "execution_count": null,
   "id": "26288868-b750-43ff-b767-ebc0ce96bb7f",
   "metadata": {},
   "outputs": [],
   "source": [
    "def gpt4(query, i, counter=0):\n",
    "    \n",
    "    try:\n",
    "        messages = [\n",
    "                       {\"role\": \"system\", \"content\": \"You are a helpful AI assistant.\"},\n",
    "                       {\"role\": \"user\", \"content\": query}\n",
    "                   ]\n",
    "        \n",
    "        response = openai.ChatCompletion.create(\n",
    "            engine=\"gpt-4-turbo\",  # The deployment name you chose when you deployed the ChatGPT or GPT-4 model.\n",
    "            messages=messages,\n",
    "            temperature=0\n",
    "        )\n",
    "        return response['choices'][0]['message']['content'], response['usage']\n",
    "    \n",
    "    except Exception as e:\n",
    "        \n",
    "        if counter < 5:\n",
    "            time.sleep(15)\n",
    "            return gpt4(query, i, counter + 1)\n",
    "        else:\n",
    "            print(f\"exception {e} at:\" + str(i))\n",
    "            return \"\", {\n",
    "    \"completion_tokens\": 0,\n",
    "    \"prompt_tokens\": 0,\n",
    "    \"total_tokens\": 0\n",
    "}"
   ]
  },
  {
   "cell_type": "code",
   "execution_count": null,
   "id": "d5bff920-5fb1-4fe9-99fe-2ec887a1e39a",
   "metadata": {},
   "outputs": [],
   "source": [
    "df = pd.read_csv(\"MATH.csv\")"
   ]
  },
  {
   "cell_type": "code",
   "execution_count": null,
   "id": "46609e10-02c4-40d8-91a2-d41c1599c80e",
   "metadata": {},
   "outputs": [],
   "source": [
    "def get_zeroshot_psp_prompt(n):\n",
    "    System_prompt = \"\"\"\n",
    "You are Terence Tao, a distinguished Australian-American mathematician renowned for your substantial contributions to harmonic analysis, partial differential equations, combinatorics, and representation theory. \n",
    "Your significant work in multiple areas of mathematics earned you the Fields Medal in 2006, one of the highest honors in the field.\n",
    "\"\"\"\n",
    "    \n",
    "    return System_prompt + \"Problem: \\n\" + df.iloc[n]['problem'] + \"\\n\\nSolution: Let's first understand the problem, extract relevant variables and their corresponding numerals and devise a plan. Then, let's carry out the plan, calculate relevant intermediate results(pay attention to calculation and common sense), solve the problem step by step. Give the final answer in \\\\boxed{}.\"\n"
   ]
  },
  {
   "cell_type": "code",
   "execution_count": null,
   "id": "6c588f51-2752-445d-8190-be7a5d94943b",
   "metadata": {},
   "outputs": [],
   "source": [
    "parser = argparse.ArgumentParser(description='argparse')\n",
    "parser.add_argument('--start', type=int, default=0,\n",
    "                    help=\"Starting index\")\n",
    "parser.add_argument('--end', type=int, default=12500,\n",
    "                    help=\"Ending index\")\n",
    "\n",
    "args = parser.parse_args()\n",
    "\n",
    "start = int(args.start)\n",
    "end = int(args.end)"
   ]
  },
  {
   "cell_type": "code",
   "execution_count": null,
   "id": "a5ea2620-f63b-4022-afdd-047e7863edcf",
   "metadata": {},
   "outputs": [],
   "source": [
    "final_json = []\n",
    "for i in trange(start, end):\n",
    "\n",
    "    prompt = get_zeroshot_ps_prompt(i)\n",
    "        \n",
    "    res, usage = gpt4(prompt, i)\n",
    "\n",
    "    data = df.iloc[i]\n",
    "\n",
    "    final_json.append({\n",
    "        \"index\": i,\n",
    "        \"problem\": data['problem'],\n",
    "        \"level\": data['level'],\n",
    "        \"type\": data['type'],\n",
    "        \"solution\": data['solution'],\n",
    "        \"label\": data['label'],\n",
    "        \"pred\": res,\n",
    "        \"usage\": usage\n",
    "        })\n",
    "\n",
    "    if i%20==0:\n",
    "        with open(f\"gpt4_plan_solve_pred_{start}_{end}.json\", 'w') as f:\n",
    "            json.dump(final_json, f)\n",
    "            \n",
    "with open(f\"gpt4_plan_solve_pred_{start}_{end}.json\", 'w') as f:\n",
    "    json.dump(final_json, f)"
   ]
  }
 ],
 "metadata": {
  "kernelspec": {
   "display_name": "Python 3 (ipykernel)",
   "language": "python",
   "name": "python3"
  },
  "language_info": {
   "codemirror_mode": {
    "name": "ipython",
    "version": 3
   },
   "file_extension": ".py",
   "mimetype": "text/x-python",
   "name": "python",
   "nbconvert_exporter": "python",
   "pygments_lexer": "ipython3",
   "version": "3.7.10"
  }
 },
 "nbformat": 4,
 "nbformat_minor": 5
}
