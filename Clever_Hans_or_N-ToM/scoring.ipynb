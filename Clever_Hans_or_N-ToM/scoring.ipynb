{
 "cells": [
  {
   "cell_type": "code",
   "execution_count": 145,
   "id": "c3acd48e-f073-4dac-ac45-0411a2c73e7b",
   "metadata": {},
   "outputs": [],
   "source": [
    "from tqdm import tqdm, trange\n",
    "import json\n",
    "\n",
    "l = []\n",
    "with open(f\"ToMi_processed_data/test.txt\", 'r') as f_in:\n",
    "    for line in f_in:\n",
    "        l.append(json.loads(line))"
   ]
  },
  {
   "cell_type": "code",
   "execution_count": 146,
   "id": "47ba43d7-5657-4ecf-88b8-f0d5e00c9f38",
   "metadata": {},
   "outputs": [
    {
     "name": "stdout",
     "output_type": "stream",
     "text": [
      "1 Jackson entered the hall.\n",
      "2 Chloe entered the hall.\n",
      "3 The boots is in the bathtub.\n",
      "4 Jackson exited the hall.\n",
      "5 Jackson entered the dining_room.\n",
      "6 Chloe moved the boots to the pantry.\n"
     ]
    }
   ],
   "source": [
    "print(l[0]['context'])"
   ]
  },
  {
   "cell_type": "code",
   "execution_count": 147,
   "id": "c97e3a52-1559-4901-97b4-15baa0b746ab",
   "metadata": {},
   "outputs": [
    {
     "data": {
      "text/plain": [
       "{'context': '1 Jackson entered the hall.\\n2 Chloe entered the hall.\\n3 The boots is in the bathtub.\\n4 Jackson exited the hall.\\n5 Jackson entered the dining_room.\\n6 Chloe moved the boots to the pantry.',\n",
       " 'question': '7 Where was the boots at the beginning?',\n",
       " 'label': 'bathtub 1'}"
      ]
     },
     "execution_count": 147,
     "metadata": {},
     "output_type": "execute_result"
    }
   ],
   "source": [
    "l[0]"
   ]
  },
  {
   "cell_type": "code",
   "execution_count": 148,
   "id": "3a32ffbb-b972-47d6-9466-cd495bb45ae7",
   "metadata": {},
   "outputs": [
    {
     "name": "stderr",
     "output_type": "stream",
     "text": [
      "100%|████████████████████████████████████████████████████████████████████████████████████| 5994/5994 [00:06<00:00, 957.75it/s]\n"
     ]
    }
   ],
   "source": [
    "import pandas as pd\n",
    "\n",
    "df = pd.DataFrame({\n",
    "\"context\":[],\n",
    "\"question\":[],\n",
    "\"label\":[]\n",
    "})\n",
    "\n",
    "for i in trange(len(l)):\n",
    "    df.loc[len(df)] = [l[i]['context'], l[i]['question'], l[i]['label']]"
   ]
  },
  {
   "cell_type": "code",
   "execution_count": 149,
   "id": "d2869da6-2b1d-4c84-9d4e-2cc46b088335",
   "metadata": {},
   "outputs": [
    {
     "data": {
      "text/plain": [
       "999"
      ]
     },
     "execution_count": 149,
     "metadata": {},
     "output_type": "execute_result"
    }
   ],
   "source": [
    "df['context'].nunique()"
   ]
  },
  {
   "cell_type": "code",
   "execution_count": 150,
   "id": "e0ef2800-3767-420f-a9ba-1049a86aa151",
   "metadata": {},
   "outputs": [
    {
     "name": "stdout",
     "output_type": "stream",
     "text": [
      "1 Jackson entered the hall.\n",
      "2 Chloe entered the hall.\n",
      "3 The boots is in the bathtub.\n",
      "4 Jackson exited the hall.\n",
      "5 Jackson entered the dining_room.\n",
      "6 Chloe moved the boots to the pantry. \n",
      "\n",
      "Questions:\n",
      "Where was the boots at the beginning?\n",
      "Where will Chloe look for the boots?\n",
      "Where does Chloe think that Jackson searches for the boots?\n",
      "Where is the boots really?\n",
      "Where will Jackson look for the boots?\n",
      "Where does Jackson think that Chloe searches for the boots?\n"
     ]
    }
   ],
   "source": [
    "print(df.iloc[0]['context'], \"\\n\\nQuestions:\")\n",
    "print(\"\\n\".join(   [\" \".join(i.split(\" \")[1:]) for i in df.iloc[0:6]['question'].to_list()]  ))"
   ]
  },
  {
   "cell_type": "code",
   "execution_count": null,
   "id": "3c9cae0c-d31e-4afc-a430-75cfc31c5ab3",
   "metadata": {},
   "outputs": [],
   "source": []
  },
  {
   "cell_type": "code",
   "execution_count": 151,
   "id": "22f986c8-af53-42a9-addf-f4654ef6fbd2",
   "metadata": {},
   "outputs": [],
   "source": [
    "new = df.groupby('context').agg({'question': list, 'label': list}).reset_index()"
   ]
  },
  {
   "cell_type": "code",
   "execution_count": 154,
   "id": "d9b23161-1373-46e4-9159-d2b4c457a509",
   "metadata": {},
   "outputs": [],
   "source": [
    "li = []\n",
    "with open(\"test.json\", 'w') as f:\n",
    "    for i in range(len(new)):\n",
    "        li.append({\n",
    "            \"context\": new.iloc[i]['context'],\n",
    "            \"question\":new.iloc[i]['question'],\n",
    "            \"label\":new.iloc[i]['label']\n",
    "        })\n",
    "    json.dump(li, f)"
   ]
  },
  {
   "cell_type": "code",
   "execution_count": null,
   "id": "b4e27464-63c9-40b3-af1a-136b8dee8714",
   "metadata": {},
   "outputs": [],
   "source": []
  },
  {
   "cell_type": "code",
   "execution_count": null,
   "id": "b8e02ba4-4185-4739-afa7-b91611efae1d",
   "metadata": {},
   "outputs": [],
   "source": []
  },
  {
   "cell_type": "markdown",
   "id": "6e83aae3-c08d-406f-8176-3f87017942ef",
   "metadata": {},
   "source": [
    "## Scoring"
   ]
  },
  {
   "cell_type": "markdown",
   "id": "be67c358-3192-4c0f-9eea-788720351224",
   "metadata": {},
   "source": [
    "## Zeroshot"
   ]
  },
  {
   "cell_type": "code",
   "execution_count": 255,
   "id": "64512129-fda0-4cc8-9f6d-370366812f6b",
   "metadata": {},
   "outputs": [],
   "source": [
    "import json\n",
    "\n",
    "def get_cost(items):\n",
    "    \n",
    "    count = {'prompt_tokens': 0,\n",
    "      'completion_tokens': 0,\n",
    "      'total_tokens': 0}\n",
    "\n",
    "    for i in items:\n",
    "        count['prompt_tokens'] = count['prompt_tokens'] + i['usage']['prompt_tokens']\n",
    "        count['completion_tokens'] = count['completion_tokens'] + i['usage']['completion_tokens'] \n",
    "        count['total_tokens'] = count['total_tokens'] + i['usage']['total_tokens'] \n",
    "\n",
    "    dollars = 0.06 * (count['prompt_tokens']) / 1000  +  0.12 * (count['completion_tokens']) / 1000\n",
    "    rupees = dollars * 83.3\n",
    "    print(f\"Total Cost: ${dollars} or Rs.{rupees}\")\n",
    "    \n",
    "def get_average(l):\n",
    "    return sum(l)/len(l)"
   ]
  },
  {
   "cell_type": "code",
   "execution_count": 299,
   "id": "a337f659-e64c-4550-9acd-62987b01907d",
   "metadata": {},
   "outputs": [],
   "source": [
    "import json \n",
    "\n",
    "setting = 'zeroshot'\n",
    "with open(f\"gpt4_pred_{setting}.json\", 'r') as f:\n",
    "    zeroshot_items = json.loads(f.read())"
   ]
  },
  {
   "cell_type": "code",
   "execution_count": 300,
   "id": "aa0bb724-4c9a-422f-9f9e-cd5004724a43",
   "metadata": {},
   "outputs": [],
   "source": [
    "def extract_answer(item):\n",
    "    \n",
    "    final_score = []\n",
    "    pred = json.loads(item['pred'])\n",
    "    for q, a in zip(item['question'], item['label']):\n",
    "        \n",
    "        a = a.split(\" \")[0]\n",
    "        q = \" \".join(q.split(\" \")[1:])\n",
    "        \n",
    "        if pred[q].replace(\"in the\", \"\").strip() == a:\n",
    "            final_score.append(True)\n",
    "        else:\n",
    "            final_score.append(False)\n",
    "            \n",
    "        #print(q, \"pred: \", pred[q], \"\\nLabel: \", a, pred[q] == a, \"\\n\")\n",
    "    return final_score"
   ]
  },
  {
   "cell_type": "code",
   "execution_count": 301,
   "id": "d5539f99-55a3-445a-a4d1-12302e647d9e",
   "metadata": {},
   "outputs": [
    {
     "name": "stdout",
     "output_type": "stream",
     "text": [
      "Accuracy:  0.6331331331331331\n",
      "Total Cost: $21.0978 or Rs.1757.4467399999999\n"
     ]
    }
   ],
   "source": [
    "final_score = []\n",
    "for item in zeroshot_items:\n",
    "    final_score.extend(extract_answer(item))\n",
    "\n",
    "print(\"Accuracy: \", get_average(final_score))\n",
    "get_cost(zeroshot_items)"
   ]
  },
  {
   "cell_type": "code",
   "execution_count": null,
   "id": "57c401e1-6337-468f-a439-f4872d808597",
   "metadata": {},
   "outputs": [],
   "source": []
  },
  {
   "cell_type": "code",
   "execution_count": null,
   "id": "d4864728-59f6-4aeb-90b3-dad930f3afbf",
   "metadata": {},
   "outputs": [],
   "source": []
  },
  {
   "cell_type": "code",
   "execution_count": null,
   "id": "9eb1a9a5-20e7-4ffd-be9f-0817e68faa84",
   "metadata": {},
   "outputs": [],
   "source": []
  },
  {
   "cell_type": "markdown",
   "id": "28ccb33b-3df4-4446-9e1d-057da14316cd",
   "metadata": {},
   "source": [
    "## Zeroshot-CoT"
   ]
  },
  {
   "cell_type": "code",
   "execution_count": 270,
   "id": "f42995e1-1856-4b8a-973a-53bbf9979f54",
   "metadata": {},
   "outputs": [],
   "source": [
    "import json \n",
    "\n",
    "setting = 'zeroshotCoT'\n",
    "with open(f\"gpt4_pred_{setting}.json\", 'r') as f:\n",
    "    zeroshot_CoT_items = json.loads(f.read())"
   ]
  },
  {
   "cell_type": "code",
   "execution_count": 271,
   "id": "ffd713b8-f503-4a4a-88ad-125c41c7c721",
   "metadata": {},
   "outputs": [],
   "source": [
    "def extract_answer(item):\n",
    "    return item['pred'].split(\"\\n\")[-1].split(\":\")[1].strip().replace(\".\", \"\") == item['label'].split(\" \")[0]"
   ]
  },
  {
   "cell_type": "code",
   "execution_count": 272,
   "id": "39e13b78-3259-42f8-93e2-514ebaaa754c",
   "metadata": {},
   "outputs": [
    {
     "name": "stdout",
     "output_type": "stream",
     "text": [
      "Accuracy:  0.7054166666666667\n",
      "Total Cost: $40.68012 or Rs.3388.653996\n"
     ]
    }
   ],
   "source": [
    "scores = [extract_answer(item) for item in zeroshot_CoT_items]\n",
    "print(\"Accuracy: \", get_average(scores))\n",
    "get_cost(zeroshot_CoT_items)"
   ]
  },
  {
   "cell_type": "code",
   "execution_count": null,
   "id": "25b0e9b6-98dc-45bb-a752-31d2bec61409",
   "metadata": {},
   "outputs": [],
   "source": []
  },
  {
   "cell_type": "markdown",
   "id": "2d6d877d-7aa7-4980-a814-24870e22c8a7",
   "metadata": {},
   "source": [
    "## Fewshot"
   ]
  },
  {
   "cell_type": "code",
   "execution_count": 281,
   "id": "98cfa2e6-d5ad-49cf-8c77-10c5af70fb1b",
   "metadata": {},
   "outputs": [],
   "source": [
    "import json \n",
    "\n",
    "setting = 'fewshot'\n",
    "with open(f\"gpt4_pred_{setting}.json\", 'r') as f:\n",
    "    fewshot_items = json.loads(f.read())"
   ]
  },
  {
   "cell_type": "code",
   "execution_count": 282,
   "id": "169ebd97-e430-4cf5-849b-645471f9a833",
   "metadata": {},
   "outputs": [],
   "source": [
    "def extract_answer(item):\n",
    "    \n",
    "    final_score = []\n",
    "    pred = json.loads(item['pred'])\n",
    "    for q, a in zip(item['question'], item['label']):\n",
    "        \n",
    "        a = a.split(\" \")[0]\n",
    "        q = \" \".join(q.split(\" \")[1:])\n",
    "        \n",
    "        if pred[q] == a:\n",
    "            final_score.append(True)\n",
    "        else:\n",
    "            final_score.append(False)\n",
    "            \n",
    "        #print(q, \"pred: \", pred[q], \"\\nLabel: \", a, pred[q] == a, \"\\n\")\n",
    "    return final_score"
   ]
  },
  {
   "cell_type": "code",
   "execution_count": 283,
   "id": "6156ab19-1b1a-4c42-a40b-533b4de8a4f0",
   "metadata": {},
   "outputs": [
    {
     "name": "stdout",
     "output_type": "stream",
     "text": [
      "Accuracy:  0.7125458792125459\n",
      "Total Cost: $32.84502 or Rs.2735.9901659999996\n"
     ]
    }
   ],
   "source": [
    "final_score = []\n",
    "for item in fewshot_items:\n",
    "    final_score.extend(extract_answer(item))\n",
    "\n",
    "print(\"Accuracy: \", get_average(final_score))\n",
    "get_cost(fewshot_items)"
   ]
  },
  {
   "cell_type": "code",
   "execution_count": null,
   "id": "db7b1368-fd3b-44ab-99d8-51db7508e284",
   "metadata": {},
   "outputs": [],
   "source": []
  },
  {
   "cell_type": "code",
   "execution_count": null,
   "id": "9f8812ea-f423-4294-b119-6f69a45bd565",
   "metadata": {},
   "outputs": [],
   "source": []
  },
  {
   "cell_type": "markdown",
   "id": "f4b9f2ce-d3c6-4add-b1f4-ecac9eeefe06",
   "metadata": {},
   "source": [
    "## Fewshot-CoT"
   ]
  },
  {
   "cell_type": "code",
   "execution_count": 296,
   "id": "94de0e0d-2ae3-4d8a-ab82-8b6b20b2c7e1",
   "metadata": {},
   "outputs": [],
   "source": [
    "import json \n",
    "\n",
    "setting = 'fewshotCoT'\n",
    "with open(f\"gpt4_pred_{setting}.json\", 'r') as f:\n",
    "    fewshot_CoT_items = json.loads(f.read())"
   ]
  },
  {
   "cell_type": "code",
   "execution_count": 297,
   "id": "e8b2ebb9-fdb9-44a3-a947-400a3af7db61",
   "metadata": {},
   "outputs": [],
   "source": [
    "def extract_answer(item):\n",
    "    return item['pred'].split(\"\\n\")[-1].split(\":\")[1].strip().replace(\".\", \"\") == item['label'].split(\" \")[0]"
   ]
  },
  {
   "cell_type": "code",
   "execution_count": 298,
   "id": "acdbd22a-8ef5-4cef-8922-a302ec6e77d0",
   "metadata": {},
   "outputs": [
    {
     "name": "stdout",
     "output_type": "stream",
     "text": [
      "Accuracy:  0.8545833333333334\n",
      "Total Cost: $128.11596 or Rs.10672.059468\n"
     ]
    }
   ],
   "source": [
    "scores = [extract_answer(item) for item in fewshot_CoT_items]\n",
    "print(\"Accuracy: \", get_average(scores))\n",
    "get_cost(fewshot_CoT_items)"
   ]
  },
  {
   "cell_type": "code",
   "execution_count": null,
   "id": "eeefc4ec-9c2b-452f-8a90-ea73180452e5",
   "metadata": {},
   "outputs": [],
   "source": []
  },
  {
   "cell_type": "code",
   "execution_count": null,
   "id": "c0d82271-c560-4095-9d76-5049c78f65c5",
   "metadata": {},
   "outputs": [],
   "source": []
  },
  {
   "cell_type": "code",
   "execution_count": 307,
   "id": "ddb67edd-1270-4c67-b30d-8e29ca72b869",
   "metadata": {},
   "outputs": [
    {
     "data": {
      "text/plain": [
       "18552"
      ]
     },
     "execution_count": 307,
     "metadata": {},
     "output_type": "execute_result"
    }
   ],
   "source": [
    "10672 + 2735 + 3388 + 1757"
   ]
  },
  {
   "cell_type": "code",
   "execution_count": null,
   "id": "2dfca577-bf89-4a5a-a9e1-320583243cfd",
   "metadata": {},
   "outputs": [],
   "source": []
  },
  {
   "cell_type": "code",
   "execution_count": null,
   "id": "54ede9a7-37a0-4ace-a0d2-c2a45a455758",
   "metadata": {},
   "outputs": [],
   "source": []
  },
  {
   "cell_type": "code",
   "execution_count": null,
   "id": "2e87765f-6b18-4a9e-b9a0-b5d462f98f95",
   "metadata": {},
   "outputs": [],
   "source": []
  },
  {
   "cell_type": "code",
   "execution_count": null,
   "id": "0ff60d44-6f67-4c77-a63c-e3da93dc9c36",
   "metadata": {},
   "outputs": [],
   "source": []
  },
  {
   "cell_type": "code",
   "execution_count": null,
   "id": "9cda61c4-cdb5-442e-9585-2672b2cabd0f",
   "metadata": {},
   "outputs": [],
   "source": []
  },
  {
   "cell_type": "markdown",
   "id": "4826cd05-9902-410e-b5cc-12a1807ec2f0",
   "metadata": {},
   "source": [
    "## CoT"
   ]
  },
  {
   "cell_type": "code",
   "execution_count": 87,
   "id": "f8aec84c-d2dd-4c9a-83a9-6d2f2b5c082e",
   "metadata": {},
   "outputs": [],
   "source": [
    "import json\n",
    "\n",
    "with open(\"test.json\", 'r') as f:\n",
    "    l = json.loads(f.read())"
   ]
  },
  {
   "cell_type": "code",
   "execution_count": 96,
   "id": "324a6e41-7011-423c-8194-0573edf11dd6",
   "metadata": {},
   "outputs": [],
   "source": [
    "import random\n",
    "\n",
    "random.seed(2023)\n",
    "index = random.sample(range(1000), 400)"
   ]
  },
  {
   "cell_type": "code",
   "execution_count": 98,
   "id": "3781fc8c-46fd-4500-9280-9a6650fb5d51",
   "metadata": {
    "tags": []
   },
   "outputs": [],
   "source": [
    "selected = []\n",
    "for i in index:\n",
    "    selected.append(l[i])"
   ]
  },
  {
   "cell_type": "code",
   "execution_count": 99,
   "id": "98519d16-5e0d-4f6a-93bb-1018f788b1f0",
   "metadata": {},
   "outputs": [
    {
     "data": {
      "text/plain": [
       "2400"
      ]
     },
     "execution_count": 99,
     "metadata": {},
     "output_type": "execute_result"
    }
   ],
   "source": [
    "sum([len(i['question']) for i in selected])"
   ]
  },
  {
   "cell_type": "code",
   "execution_count": 121,
   "id": "905e3bfc-93d2-498f-8f0d-1ec885c73b6c",
   "metadata": {},
   "outputs": [],
   "source": [
    "final = []\n",
    "for item in selected:\n",
    "    \n",
    "    context = item['context']\n",
    "    for q, a in zip(item['question'], item['label']):\n",
    "        \n",
    "        final.append({\n",
    "        \"context\": context,\n",
    "        \"question\": q,\n",
    "        \"label\": a\n",
    "        })"
   ]
  },
  {
   "cell_type": "code",
   "execution_count": 122,
   "id": "eb206492-0e53-459d-a8b7-8962b27472b6",
   "metadata": {},
   "outputs": [
    {
     "data": {
      "text/plain": [
       "2400"
      ]
     },
     "execution_count": 122,
     "metadata": {},
     "output_type": "execute_result"
    }
   ],
   "source": [
    "len(final)"
   ]
  },
  {
   "cell_type": "code",
   "execution_count": 124,
   "id": "f8cecdf1-d968-48e8-ba56-e28117e6b9a8",
   "metadata": {},
   "outputs": [
    {
     "data": {
      "text/plain": [
       "{'context': '1 Evelyn entered the study.\\n2 Avery entered the study.\\n3 Benjamin entered the study.\\n4 Benjamin loves the skirt\\n5 The potato is in the container.\\n6 Avery exited the study.\\n7 Evelyn moved the potato to the treasure_chest.\\n8 Evelyn exited the study.\\n9 Avery entered the study.\\n10 Benjamin loves the pineapple',\n",
       " 'question': '11 Where does Evelyn think that Avery searches for the potato?',\n",
       " 'label': 'container 1'}"
      ]
     },
     "execution_count": 124,
     "metadata": {},
     "output_type": "execute_result"
    }
   ],
   "source": [
    "final[2]"
   ]
  },
  {
   "cell_type": "code",
   "execution_count": 125,
   "id": "36dd38e7-08a4-42ce-9a4a-94af929023ea",
   "metadata": {},
   "outputs": [],
   "source": [
    "with open('CoT_Test.json', 'w') as f:\n",
    "    json.dump(final, f)"
   ]
  },
  {
   "cell_type": "code",
   "execution_count": null,
   "id": "20998d06-9a15-48e5-8a82-07050a0b08cc",
   "metadata": {},
   "outputs": [],
   "source": []
  },
  {
   "cell_type": "markdown",
   "id": "1b7ecdad-15ea-44bd-a3e8-71d0f78ebec9",
   "metadata": {},
   "source": [
    "## running CoT "
   ]
  },
  {
   "cell_type": "code",
   "execution_count": 162,
   "id": "7f5ab40a-34ab-4efe-8d2d-b759f449cf31",
   "metadata": {},
   "outputs": [],
   "source": [
    "with open(\"CoT_Test.json\", 'r') as f:\n",
    "    dataset = json.loads(f.read())\n",
    "    \n",
    "def get_zeroshot(item):\n",
    "    \n",
    "    context = item['context']\n",
    "    prompt = context + \"\\n\\nQuestion:\\n\" + item['question'] + \"\\n\\nLet's think step by step\\nFinally give answer in new line as Final_answer: your final answer(only specific key word asked in question)\"\n",
    "    \n",
    "    return prompt, item['label']"
   ]
  },
  {
   "cell_type": "code",
   "execution_count": 157,
   "id": "37d56fa0-e170-49f2-83ab-f02616966429",
   "metadata": {},
   "outputs": [],
   "source": [
    "for item in dataset:\n",
    "    p, l = get_zeroshot(item)\n",
    "    "
   ]
  },
  {
   "cell_type": "code",
   "execution_count": 158,
   "id": "e80b4176-362d-4fdc-9242-5598ae3697e4",
   "metadata": {},
   "outputs": [
    {
     "name": "stdout",
     "output_type": "stream",
     "text": [
      "1 Evelyn entered the cellar.\n",
      "2 Charlotte entered the cellar.\n",
      "3 Lucas entered the cellar.\n",
      "4 Evelyn exited the cellar.\n",
      "5 The shirt is in the bottle.\n",
      "6 Lucas moved the shirt to the cupboard.\n",
      "7 Charlotte exited the cellar.\n",
      "8 Lucas exited the cellar.\n",
      "9 Charlotte entered the cellar.\n",
      "\n",
      "Question:\n",
      "10 Where does Charlotte think that Lucas searches for the shirt?\n",
      "\n",
      "Let's think step by step\n",
      "Finally give answer in new line as Final_answer: your final answer(only specific key word asked in question)\n"
     ]
    }
   ],
   "source": [
    "print(p)"
   ]
  },
  {
   "cell_type": "code",
   "execution_count": 166,
   "id": "23448d85-88ee-45fc-9d17-8fe791c84a11",
   "metadata": {},
   "outputs": [],
   "source": [
    "def get_zeroshot(item):\n",
    "    \n",
    "    context = item['context']\n",
    "    prompt = context + \"\\n\\nQuestion:\\n\" + item['question'] + \"\\n\\nLet's think step by step\\nFinally give answer in new line as Final_answer: your final answer(only specific key word asked in question)\"\n",
    "    \n",
    "    return prompt, item['label']\n",
    "\n",
    "def get_fewshot(item):\n",
    "    \n",
    "    prompt = \"\"\"\n",
    "[Context]:\n",
    "1 Evelyn entered the cellar.\n",
    "2 Charlotte entered the cellar.\n",
    "3 Lucas entered the cellar.\n",
    "4 Evelyn exited the cellar.\n",
    "5 The shirt is in the bottle.\n",
    "6 Lucas moved the shirt to the cupboard.\n",
    "7 Charlotte exited the cellar.\n",
    "8 Lucas exited the cellar.\n",
    "9 Charlotte entered the cellar.\n",
    "\n",
    "[Question]:\n",
    "10 Where does Charlotte think that Lucas searches for the shirt?\n",
    "\n",
    "Let's think step by step\n",
    "Finally give answer in new line as Final_answer: your final answer(only specific key word asked in question)\n",
    "\n",
    "[Answer]:\n",
    "Step 1: Evelyn, Charlotte, and Lucas entered the cellar (points 1-3).\n",
    "Step 2: Evelyn exited the cellar (point 4). At this moment, Charlotte and Lucas are still in the cellar.\n",
    "Step 3: The shirt is in the bottle (point 5). It is not mentioned if Charlotte and Lucas saw the shirt being placed in the bottle, so we cannot assume they know its location.\n",
    "Step 4: Lucas moved the shirt to the cupboard (point 6). Since Charlotte is in the cellar with Lucas, she witnesses him move the shirt to the cupboard.\n",
    "Step 5: Charlotte exited the cellar (point 7). Now, Charlotte is no longer in the cellar, but she knows that Lucas moved the shirt to the cupboard.\n",
    "Step 6: Lucas exited the cellar (point 8).\n",
    "Step 7: Charlotte entered the cellar again (point 9).\n",
    "\n",
    "Now, to answer the question \"Where does Charlotte think that Lucas searches for the shirt?\"\n",
    "\n",
    "Based on the information provided, Charlotte last saw Lucas move the shirt to the cupboard. Therefore, she would believe that Lucas searches for the shirt in the cupboard.\n",
    "\n",
    "Final_answer: cupboard.\n",
    "\n",
    "[End of Examples]\n",
    "\n",
    "\"\"\"\n",
    "    \n",
    "    context = item['context']\n",
    "    prompt += \"[Context]:\\n\" + context + \"\\n\\n[Question]:\\n\" + item['question'] + \"\"\"\\n\\nLet's think step by step\n",
    "Finally give answer in new line as Final_answer: your final answer(only specific key word asked in question)\\n\\n[Answer]:\"\"\"\n",
    "    \n",
    "    return prompt, item['label']"
   ]
  },
  {
   "cell_type": "code",
   "execution_count": 168,
   "id": "fccc9339-77f5-46a0-bdc0-5bbeb63170c3",
   "metadata": {},
   "outputs": [
    {
     "name": "stdout",
     "output_type": "stream",
     "text": [
      "\n",
      "[Context]:\n",
      "1 Evelyn entered the cellar.\n",
      "2 Charlotte entered the cellar.\n",
      "3 Lucas entered the cellar.\n",
      "4 Evelyn exited the cellar.\n",
      "5 The shirt is in the bottle.\n",
      "6 Lucas moved the shirt to the cupboard.\n",
      "7 Charlotte exited the cellar.\n",
      "8 Lucas exited the cellar.\n",
      "9 Charlotte entered the cellar.\n",
      "\n",
      "[Question]:\n",
      "10 Where does Charlotte think that Lucas searches for the shirt?\n",
      "\n",
      "Let's think step by step\n",
      "Finally give answer in new line as Final_answer: your final answer(only specific key word asked in question)\n",
      "\n",
      "[Answer]:\n",
      "Step 1: Evelyn, Charlotte, and Lucas entered the cellar (points 1-3).\n",
      "Step 2: Evelyn exited the cellar (point 4). At this moment, Charlotte and Lucas are still in the cellar.\n",
      "Step 3: The shirt is in the bottle (point 5). It is not mentioned if Charlotte and Lucas saw the shirt being placed in the bottle, so we cannot assume they know its location.\n",
      "Step 4: Lucas moved the shirt to the cupboard (point 6). Since Charlotte is in the cellar with Lucas, she witnesses him move the shirt to the cupboard.\n",
      "Step 5: Charlotte exited the cellar (point 7). Now, Charlotte is no longer in the cellar, but she knows that Lucas moved the shirt to the cupboard.\n",
      "Step 6: Lucas exited the cellar (point 8).\n",
      "Step 7: Charlotte entered the cellar again (point 9).\n",
      "\n",
      "Now, to answer the question \"Where does Charlotte think that Lucas searches for the shirt?\"\n",
      "\n",
      "Based on the information provided, Charlotte last saw Lucas move the shirt to the cupboard. Therefore, she would believe that Lucas searches for the shirt in the cupboard.\n",
      "\n",
      "Final_answer: cupboard.\n",
      "\n",
      "[End of Examples]\n",
      "\n",
      "[Context]:\n",
      "1 Emily entered the back_yard.\n",
      "2 Aria entered the front_yard.\n",
      "3 Emily dislikes the slippers\n",
      "4 Emily exited the back_yard.\n",
      "5 Jacob entered the front_yard.\n",
      "6 The strawberry is in the drawer.\n",
      "7 Emily likes the suit\n",
      "8 Aria exited the front_yard.\n",
      "9 Jacob moved the strawberry to the box.\n",
      "\n",
      "[Question]:\n",
      "10 Where is the strawberry really?Let's think step by step\n",
      "Finally give answer in new line as Final_answer: your final answer(only specific key word asked in question)\n",
      "\n",
      "[Answer]:\n"
     ]
    }
   ],
   "source": [
    "p, la = get_fewshot(dataset[99])\n",
    "print(p)"
   ]
  },
  {
   "cell_type": "code",
   "execution_count": 169,
   "id": "8e32a862-f267-449e-bbd0-84c9d4381992",
   "metadata": {},
   "outputs": [
    {
     "data": {
      "text/plain": [
       "'box 1'"
      ]
     },
     "execution_count": 169,
     "metadata": {},
     "output_type": "execute_result"
    }
   ],
   "source": [
    "la"
   ]
  },
  {
   "cell_type": "code",
   "execution_count": 142,
   "id": "963ee207-a822-46ee-b40a-9b72b9faf42c",
   "metadata": {},
   "outputs": [],
   "source": [
    "import openai\n",
    "\n",
    "openai.api_type = \"\"\n",
    "openai.api_base = \"\"\n",
    "openai.api_version = \"\"\n",
    "openai.api_key = \"\"\n",
    "\n",
    "\n",
    "def gpt4(query, i, counter=0):\n",
    "    \n",
    "    try:\n",
    "        messages = [\n",
    "                       {\"role\": \"system\", \"content\": \"You are a helpful AI assistant.\"},\n",
    "                       {\"role\": \"user\", \"content\": query}\n",
    "                   ]\n",
    "        \n",
    "        response = openai.ChatCompletion.create(\n",
    "            engine=\"gpt-4-32k\",  # The deployment name you chose when you deployed the ChatGPT or GPT-4 model.\n",
    "            messages=messages,\n",
    "            temperature=0\n",
    "        )\n",
    "        return response['choices'][0]['message']['content'], response['usage']\n",
    "    \n",
    "    except:\n",
    "        if counter < 5:\n",
    "            time.sleep(5)\n",
    "            return gpt4(prompt, i, counter + 1)\n",
    "        else:\n",
    "            print(\"exception at:\" + str(i))\n",
    "            return \"\", {\n",
    "    \"completion_tokens\": 0,\n",
    "    \"prompt_tokens\": 0,\n",
    "    \"total_tokens\": 0\n",
    "}"
   ]
  },
  {
   "cell_type": "code",
   "execution_count": 148,
   "id": "8f5be7ae-9adc-4c48-b06b-ecfbd0f80b76",
   "metadata": {},
   "outputs": [],
   "source": [
    "p, l = get_zeroshot(dataset[45])\n",
    "res, usage = gpt4(p, 0)"
   ]
  },
  {
   "cell_type": "code",
   "execution_count": 149,
   "id": "1a333192-564d-4e8f-b321-297f4555afc5",
   "metadata": {},
   "outputs": [
    {
     "name": "stdout",
     "output_type": "stream",
     "text": [
      "Step 1: Liam entered the kitchen.\n",
      "Step 2: Olivia entered the kitchen.\n",
      "Step 3: The persimmon is in the suitcase.\n",
      "Step 4: Olivia exited the kitchen.\n",
      "Step 5: Mila entered the back_yard.\n",
      "Step 6: Mila exited the back_yard.\n",
      "Step 7: Liam moved the persimmon to the bucket.\n",
      "\n",
      "Final_answer: bucket \n",
      "\n",
      "gold: bucket 1\n"
     ]
    }
   ],
   "source": [
    "print(res, \"\\n\\ngold:\", l)"
   ]
  },
  {
   "cell_type": "code",
   "execution_count": null,
   "id": "1c96eae1-b44d-4d2e-a638-86115dba58bc",
   "metadata": {},
   "outputs": [],
   "source": []
  }
 ],
 "metadata": {
  "kernelspec": {
   "display_name": "pynew",
   "language": "python",
   "name": "pynew"
  },
  "language_info": {
   "codemirror_mode": {
    "name": "ipython",
    "version": 3
   },
   "file_extension": ".py",
   "mimetype": "text/x-python",
   "name": "python",
   "nbconvert_exporter": "python",
   "pygments_lexer": "ipython3",
   "version": "3.9.18"
  }
 },
 "nbformat": 4,
 "nbformat_minor": 5
}
